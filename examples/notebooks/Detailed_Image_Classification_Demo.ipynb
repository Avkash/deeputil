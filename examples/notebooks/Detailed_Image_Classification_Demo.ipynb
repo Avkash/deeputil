{
 "cells": [
  {
   "cell_type": "code",
   "execution_count": null,
   "metadata": {},
   "outputs": [],
   "source": [
    "import tensorflow\n",
    "from deeputil.model import ModelsMaster\n",
    "from deeputil.modelassist import KerasModelHelper"
   ]
  },
  {
   "cell_type": "code",
   "execution_count": null,
   "metadata": {
    "collapsed": true
   },
   "outputs": [],
   "source": [
    "from deeputil.modelassist import ImportExport"
   ]
  },
  {
   "cell_type": "code",
   "execution_count": null,
   "metadata": {},
   "outputs": [],
   "source": [
    "model = ImportExport.import_keras_model_config_and_weight_and_compile('/Users/avkashchauhan/learn/deepwater/x.json', \n",
    "                                                                      '/Users/avkashchauhan/learn/deepwater/x.h5',\n",
    "                                                                      show_info = False)"
   ]
  },
  {
   "cell_type": "code",
   "execution_count": null,
   "metadata": {},
   "outputs": [],
   "source": [
    "KerasModelHelper.get_model_layers_details_all(model, show_info=False)"
   ]
  },
  {
   "cell_type": "code",
   "execution_count": null,
   "metadata": {},
   "outputs": [],
   "source": [
    "KerasModelHelper.get_model_input_image_shape_info(model, show_info=True)"
   ]
  },
  {
   "cell_type": "code",
   "execution_count": null,
   "metadata": {
    "collapsed": true
   },
   "outputs": [],
   "source": [
    "from deeputil.imageassist import ImageUtils"
   ]
  },
  {
   "cell_type": "code",
   "execution_count": null,
   "metadata": {
    "collapsed": true
   },
   "outputs": [],
   "source": [
    "img_path = \"/Users/avkashchauhan/learn/deepwater/dog-bw.jpg\""
   ]
  },
  {
   "cell_type": "code",
   "execution_count": null,
   "metadata": {},
   "outputs": [],
   "source": [
    "img = ImageUtils.import_image_from_disk(img_path, (224,224), isGray= False)\n",
    "img_array = ImageUtils.convert_image_array(img)\n",
    "img_p = ImageUtils.preprocess_image_array(img_array)"
   ]
  },
  {
   "cell_type": "code",
   "execution_count": null,
   "metadata": {},
   "outputs": [],
   "source": [
    "KerasModelHelper.get_model_layers_details_all_extended(model, img_p, show_info=False)"
   ]
  },
  {
   "cell_type": "code",
   "execution_count": null,
   "metadata": {},
   "outputs": [],
   "source": [
    "KerasModelHelper.get_model_layer_details_by_layerId(model, 0, show_info=False)"
   ]
  },
  {
   "cell_type": "code",
   "execution_count": null,
   "metadata": {},
   "outputs": [],
   "source": [
    "KerasModelHelper.get_feature_map_counts_for_all_layers(model, img_p)"
   ]
  },
  {
   "cell_type": "code",
   "execution_count": null,
   "metadata": {},
   "outputs": [],
   "source": [
    "KerasModelHelper.display_feature_map_for_selected_layer_in_model(model, 10, img_p, show_info=False)"
   ]
  },
  {
   "cell_type": "code",
   "execution_count": null,
   "metadata": {},
   "outputs": [],
   "source": [
    "KerasModelHelper.display_Individual_feature_for_selected_layer_in_model(model,1, 1, img_p)"
   ]
  },
  {
   "cell_type": "code",
   "execution_count": null,
   "metadata": {
    "collapsed": true
   },
   "outputs": [],
   "source": []
  }
 ],
 "metadata": {
  "kernelspec": {
   "display_name": "Python 3",
   "language": "python",
   "name": "python3"
  },
  "language_info": {
   "codemirror_mode": {
    "name": "ipython",
    "version": 3
   },
   "file_extension": ".py",
   "mimetype": "text/x-python",
   "name": "python",
   "nbconvert_exporter": "python",
   "pygments_lexer": "ipython3",
   "version": "3.6.1"
  }
 },
 "nbformat": 4,
 "nbformat_minor": 2
}
