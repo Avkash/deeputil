{
 "cells": [
  {
   "cell_type": "markdown",
   "metadata": {},
   "source": [
    "# Importing prebuilt MNIST Model \n",
    "\n",
    "Model Details:\n",
    "    - Trained for 2000 epochs\n",
    "    - Accuracy 99.38%\n",
    "    \n",
    "Once model is loaded it like any other Keras model, ready to work!"
   ]
  },
  {
   "cell_type": "code",
   "execution_count": 1,
   "metadata": {},
   "outputs": [
    {
     "name": "stderr",
     "output_type": "stream",
     "text": [
      "Using TensorFlow backend.\n"
     ]
    }
   ],
   "source": [
    "import tensorflow\n",
    "from deeputil.model import ModelsMaster\n",
    "from deeputil.modelassist import KerasModelHelper"
   ]
  },
  {
   "cell_type": "code",
   "execution_count": 2,
   "metadata": {},
   "outputs": [
    {
     "name": "stdout",
     "output_type": "stream",
     "text": [
      "This pre-built MNIST model is about 20MB and will be downloaded from the internet...\n",
      "Losses: categorical_crossentropy\n",
      "Optimizers: rmsprop\n",
      "Metrics: ['acc']\n",
      "Loading model json from the disk done..\n",
      "Loading model weights from the disk done.\n"
     ]
    }
   ],
   "source": [
    "mnist = ModelsMaster.get_mnist_model()"
   ]
  },
  {
   "cell_type": "code",
   "execution_count": 4,
   "metadata": {},
   "outputs": [
    {
     "name": "stdout",
     "output_type": "stream",
     "text": [
      "Losses: categorical_crossentropy\n",
      "Optimizers: rmsprop\n",
      "Metrics: ['acc']\n",
      "Loading model json from the disk done..\n",
      "Loading model weights from the disk done.\n"
     ]
    }
   ],
   "source": [
    "mnist = ModelsMaster.get_mnist_model(show_info=False)"
   ]
  },
  {
   "cell_type": "code",
   "execution_count": 6,
   "metadata": {},
   "outputs": [
    {
     "name": "stdout",
     "output_type": "stream",
     "text": [
      "Collecting layer count.....\n",
      "Total 8 layers details are collected.\n"
     ]
    },
    {
     "data": {
      "text/html": [
       "<div>\n",
       "<style>\n",
       "    .dataframe thead tr:only-child th {\n",
       "        text-align: right;\n",
       "    }\n",
       "\n",
       "    .dataframe thead th {\n",
       "        text-align: left;\n",
       "    }\n",
       "\n",
       "    .dataframe tbody tr th {\n",
       "        vertical-align: top;\n",
       "    }\n",
       "</style>\n",
       "<table border=\"1\" class=\"dataframe\">\n",
       "  <thead>\n",
       "    <tr style=\"text-align: right;\">\n",
       "      <th></th>\n",
       "      <th>Id</th>\n",
       "      <th>LayerName</th>\n",
       "      <th>Type</th>\n",
       "      <th>Filters</th>\n",
       "      <th>InputShape</th>\n",
       "      <th>OutputShape</th>\n",
       "      <th>Activation</th>\n",
       "      <th>ParameterCount</th>\n",
       "    </tr>\n",
       "  </thead>\n",
       "  <tbody>\n",
       "    <tr>\n",
       "      <th>0</th>\n",
       "      <td>0</td>\n",
       "      <td>conv2d_1</td>\n",
       "      <td>Conv2D</td>\n",
       "      <td>32</td>\n",
       "      <td>(None, 1, 28, 28)</td>\n",
       "      <td>(None, 1, 28, 32)</td>\n",
       "      <td>relu</td>\n",
       "      <td>928</td>\n",
       "    </tr>\n",
       "    <tr>\n",
       "      <th>1</th>\n",
       "      <td>1</td>\n",
       "      <td>conv2d_2</td>\n",
       "      <td>Conv2D</td>\n",
       "      <td>32</td>\n",
       "      <td>(None, 1, 28, 32)</td>\n",
       "      <td>(None, 1, 28, 32)</td>\n",
       "      <td>relu</td>\n",
       "      <td>1056</td>\n",
       "    </tr>\n",
       "    <tr>\n",
       "      <th>2</th>\n",
       "      <td>2</td>\n",
       "      <td>max_pooling2d_1</td>\n",
       "      <td>MaxPooling2D</td>\n",
       "      <td>0</td>\n",
       "      <td>(None, 1, 28, 32)</td>\n",
       "      <td>(None, 1, 28, 32)</td>\n",
       "      <td>None</td>\n",
       "      <td>0</td>\n",
       "    </tr>\n",
       "    <tr>\n",
       "      <th>3</th>\n",
       "      <td>3</td>\n",
       "      <td>dropout_1</td>\n",
       "      <td>Dropout</td>\n",
       "      <td>0</td>\n",
       "      <td>(None, 1, 28, 32)</td>\n",
       "      <td>(None, 1, 28, 32)</td>\n",
       "      <td>None</td>\n",
       "      <td>0</td>\n",
       "    </tr>\n",
       "    <tr>\n",
       "      <th>4</th>\n",
       "      <td>4</td>\n",
       "      <td>flatten_1</td>\n",
       "      <td>Flatten</td>\n",
       "      <td>0</td>\n",
       "      <td>(None, 1, 28, 32)</td>\n",
       "      <td>(None, 896)</td>\n",
       "      <td>None</td>\n",
       "      <td>0</td>\n",
       "    </tr>\n",
       "    <tr>\n",
       "      <th>5</th>\n",
       "      <td>5</td>\n",
       "      <td>dense_1</td>\n",
       "      <td>Dense</td>\n",
       "      <td>0</td>\n",
       "      <td>(None, 896)</td>\n",
       "      <td>(None, 128)</td>\n",
       "      <td>relu</td>\n",
       "      <td>114816</td>\n",
       "    </tr>\n",
       "    <tr>\n",
       "      <th>6</th>\n",
       "      <td>6</td>\n",
       "      <td>dropout_2</td>\n",
       "      <td>Dropout</td>\n",
       "      <td>0</td>\n",
       "      <td>(None, 128)</td>\n",
       "      <td>(None, 128)</td>\n",
       "      <td>None</td>\n",
       "      <td>0</td>\n",
       "    </tr>\n",
       "    <tr>\n",
       "      <th>7</th>\n",
       "      <td>7</td>\n",
       "      <td>dense_2</td>\n",
       "      <td>Dense</td>\n",
       "      <td>0</td>\n",
       "      <td>(None, 128)</td>\n",
       "      <td>(None, 10)</td>\n",
       "      <td>softmax</td>\n",
       "      <td>1290</td>\n",
       "    </tr>\n",
       "  </tbody>\n",
       "</table>\n",
       "</div>"
      ],
      "text/plain": [
       "  Id        LayerName          Type Filters         InputShape  \\\n",
       "0  0         conv2d_1        Conv2D      32  (None, 1, 28, 28)   \n",
       "1  1         conv2d_2        Conv2D      32  (None, 1, 28, 32)   \n",
       "2  2  max_pooling2d_1  MaxPooling2D       0  (None, 1, 28, 32)   \n",
       "3  3        dropout_1       Dropout       0  (None, 1, 28, 32)   \n",
       "4  4        flatten_1       Flatten       0  (None, 1, 28, 32)   \n",
       "5  5          dense_1         Dense       0        (None, 896)   \n",
       "6  6        dropout_2       Dropout       0        (None, 128)   \n",
       "7  7          dense_2         Dense       0        (None, 128)   \n",
       "\n",
       "         OutputShape Activation ParameterCount  \n",
       "0  (None, 1, 28, 32)       relu            928  \n",
       "1  (None, 1, 28, 32)       relu           1056  \n",
       "2  (None, 1, 28, 32)       None              0  \n",
       "3  (None, 1, 28, 32)       None              0  \n",
       "4        (None, 896)       None              0  \n",
       "5        (None, 128)       relu         114816  \n",
       "6        (None, 128)       None              0  \n",
       "7         (None, 10)    softmax           1290  "
      ]
     },
     "execution_count": 6,
     "metadata": {},
     "output_type": "execute_result"
    }
   ],
   "source": [
    "KerasModelHelper.get_model_layers_details_all(mnist)"
   ]
  },
  {
   "cell_type": "code",
   "execution_count": null,
   "metadata": {
    "collapsed": true
   },
   "outputs": [],
   "source": []
  }
 ],
 "metadata": {
  "kernelspec": {
   "display_name": "Python 3",
   "language": "python",
   "name": "python3"
  },
  "language_info": {
   "codemirror_mode": {
    "name": "ipython",
    "version": 3
   },
   "file_extension": ".py",
   "mimetype": "text/x-python",
   "name": "python",
   "nbconvert_exporter": "python",
   "pygments_lexer": "ipython3",
   "version": "3.6.1"
  }
 },
 "nbformat": 4,
 "nbformat_minor": 2
}
