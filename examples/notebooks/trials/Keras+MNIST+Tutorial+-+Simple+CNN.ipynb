{
 "cells": [
  {
   "cell_type": "code",
   "execution_count": 1,
   "metadata": {},
   "outputs": [
    {
     "name": "stderr",
     "output_type": "stream",
     "text": [
      "Using TensorFlow backend.\n"
     ]
    }
   ],
   "source": [
    "import numpy as np\n",
    "import theano\n",
    "import keras"
   ]
  },
  {
   "cell_type": "code",
   "execution_count": 2,
   "metadata": {},
   "outputs": [],
   "source": [
    "np.random.seed(999)  # for reproducibility\n"
   ]
  },
  {
   "cell_type": "code",
   "execution_count": 3,
   "metadata": {
    "collapsed": true
   },
   "outputs": [],
   "source": [
    "# Importing Sequential model type from Keras. This is simple a linear stack of neural network layers, \n",
    "# and it's perfect for the type of feed-forward CNN we're building in this tutorial.\n",
    "from keras.models import Sequential"
   ]
  },
  {
   "cell_type": "code",
   "execution_count": 4,
   "metadata": {
    "collapsed": true
   },
   "outputs": [],
   "source": [
    "# Import \"core\" layers from Keras. These are the layers that are used in almost any neural network:\n",
    "from keras.layers import Dense, Dropout, Activation, Flatten"
   ]
  },
  {
   "cell_type": "code",
   "execution_count": 5,
   "metadata": {
    "collapsed": true
   },
   "outputs": [],
   "source": [
    "# import the CNN layers from Keras. \n",
    "# These are the convolutional layers that will help us efficiently train on image data:\n",
    "from keras.layers import Convolution2D, MaxPooling2D"
   ]
  },
  {
   "cell_type": "code",
   "execution_count": 6,
   "metadata": {
    "collapsed": true
   },
   "outputs": [],
   "source": [
    "# import  utilities to transform our data later\n",
    "from keras.utils import np_utils"
   ]
  },
  {
   "cell_type": "code",
   "execution_count": 7,
   "metadata": {},
   "outputs": [
    {
     "name": "stdout",
     "output_type": "stream",
     "text": [
      "Downloading data from https://s3.amazonaws.com/img-datasets/mnist.npz\n",
      "10944512/11490434 [===========================>..] - ETA: 0s"
     ]
    }
   ],
   "source": [
    "from keras.datasets import mnist\n",
    " \n",
    "# Load pre-shuffled MNIST data into train and test sets\n",
    "(X_train, y_train), (X_test, y_test) = mnist.load_data()"
   ]
  },
  {
   "cell_type": "code",
   "execution_count": 9,
   "metadata": {},
   "outputs": [
    {
     "name": "stdout",
     "output_type": "stream",
     "text": [
      "[[[0 0 0 ..., 0 0 0]\n",
      "  [0 0 0 ..., 0 0 0]\n",
      "  [0 0 0 ..., 0 0 0]\n",
      "  ..., \n",
      "  [0 0 0 ..., 0 0 0]\n",
      "  [0 0 0 ..., 0 0 0]\n",
      "  [0 0 0 ..., 0 0 0]]\n",
      "\n",
      " [[0 0 0 ..., 0 0 0]\n",
      "  [0 0 0 ..., 0 0 0]\n",
      "  [0 0 0 ..., 0 0 0]\n",
      "  ..., \n",
      "  [0 0 0 ..., 0 0 0]\n",
      "  [0 0 0 ..., 0 0 0]\n",
      "  [0 0 0 ..., 0 0 0]]\n",
      "\n",
      " [[0 0 0 ..., 0 0 0]\n",
      "  [0 0 0 ..., 0 0 0]\n",
      "  [0 0 0 ..., 0 0 0]\n",
      "  ..., \n",
      "  [0 0 0 ..., 0 0 0]\n",
      "  [0 0 0 ..., 0 0 0]\n",
      "  [0 0 0 ..., 0 0 0]]\n",
      "\n",
      " ..., \n",
      " [[0 0 0 ..., 0 0 0]\n",
      "  [0 0 0 ..., 0 0 0]\n",
      "  [0 0 0 ..., 0 0 0]\n",
      "  ..., \n",
      "  [0 0 0 ..., 0 0 0]\n",
      "  [0 0 0 ..., 0 0 0]\n",
      "  [0 0 0 ..., 0 0 0]]\n",
      "\n",
      " [[0 0 0 ..., 0 0 0]\n",
      "  [0 0 0 ..., 0 0 0]\n",
      "  [0 0 0 ..., 0 0 0]\n",
      "  ..., \n",
      "  [0 0 0 ..., 0 0 0]\n",
      "  [0 0 0 ..., 0 0 0]\n",
      "  [0 0 0 ..., 0 0 0]]\n",
      "\n",
      " [[0 0 0 ..., 0 0 0]\n",
      "  [0 0 0 ..., 0 0 0]\n",
      "  [0 0 0 ..., 0 0 0]\n",
      "  ..., \n",
      "  [0 0 0 ..., 0 0 0]\n",
      "  [0 0 0 ..., 0 0 0]\n",
      "  [0 0 0 ..., 0 0 0]]]\n"
     ]
    }
   ],
   "source": [
    "# Understand the data sets now\n",
    "# Training - X_train, y_train\n",
    "# Testing  - Y_test, y_test\n",
    "# Try all objects as below to understand\n",
    "print(X_train) \n",
    "# Note: You will see that all the objects here are int32 type. (Reminder for later)"
   ]
  },
  {
   "cell_type": "code",
   "execution_count": 10,
   "metadata": {},
   "outputs": [
    {
     "name": "stdout",
     "output_type": "stream",
     "text": [
      "(60000, 28, 28)\n",
      "(60000,)\n",
      "(10000, 28, 28)\n",
      "(10000,)\n"
     ]
    }
   ],
   "source": [
    "# Now we are geting the size of each object so we can understand the train and test data better\n",
    "print(X_train.shape)\n",
    "# Note: X_train has 60,000 samples in training set, and the images are 28 pixels x 28 pixels each\n",
    "print(y_train.shape)\n",
    "print(X_test.shape)\n",
    "print(y_test.shape)\n",
    "# Note: The shape will print values as -> (n, width, height)"
   ]
  },
  {
   "cell_type": "code",
   "execution_count": 11,
   "metadata": {},
   "outputs": [
    {
     "name": "stdout",
     "output_type": "stream",
     "text": [
      "[[  0   0   0   0   0   0   0   0   0   0   0   0   0   0   0   0   0   0\n",
      "    0   0   0   0   0   0   0   0   0   0]\n",
      " [  0   0   0   0   0   0   0   0   0   0   0   0   0   0   0   0   0   0\n",
      "    0   0   0   0   0   0   0   0   0   0]\n",
      " [  0   0   0   0   0   0   0   0   0   0   0   0   0   0   0   0   0   0\n",
      "    0   0   0   0   0   0   0   0   0   0]\n",
      " [  0   0   0   0   0   0   0   0   0   0   0   0   0   0   0   0   0   0\n",
      "    0   0   0   0   0   0   0   0   0   0]\n",
      " [  0   0   0   0   0   0   0   0   0   0   0   0   0   0   0  51 159 253\n",
      "  159  50   0   0   0   0   0   0   0   0]\n",
      " [  0   0   0   0   0   0   0   0   0   0   0   0   0   0  48 238 252 252\n",
      "  252 237   0   0   0   0   0   0   0   0]\n",
      " [  0   0   0   0   0   0   0   0   0   0   0   0   0  54 227 253 252 239\n",
      "  233 252  57   6   0   0   0   0   0   0]\n",
      " [  0   0   0   0   0   0   0   0   0   0   0  10  60 224 252 253 252 202\n",
      "   84 252 253 122   0   0   0   0   0   0]\n",
      " [  0   0   0   0   0   0   0   0   0   0   0 163 252 252 252 253 252 252\n",
      "   96 189 253 167   0   0   0   0   0   0]\n",
      " [  0   0   0   0   0   0   0   0   0   0  51 238 253 253 190 114 253 228\n",
      "   47  79 255 168   0   0   0   0   0   0]\n",
      " [  0   0   0   0   0   0   0   0   0  48 238 252 252 179  12  75 121  21\n",
      "    0   0 253 243  50   0   0   0   0   0]\n",
      " [  0   0   0   0   0   0   0   0  38 165 253 233 208  84   0   0   0   0\n",
      "    0   0 253 252 165   0   0   0   0   0]\n",
      " [  0   0   0   0   0   0   0   7 178 252 240  71  19  28   0   0   0   0\n",
      "    0   0 253 252 195   0   0   0   0   0]\n",
      " [  0   0   0   0   0   0   0  57 252 252  63   0   0   0   0   0   0   0\n",
      "    0   0 253 252 195   0   0   0   0   0]\n",
      " [  0   0   0   0   0   0   0 198 253 190   0   0   0   0   0   0   0   0\n",
      "    0   0 255 253 196   0   0   0   0   0]\n",
      " [  0   0   0   0   0   0  76 246 252 112   0   0   0   0   0   0   0   0\n",
      "    0   0 253 252 148   0   0   0   0   0]\n",
      " [  0   0   0   0   0   0  85 252 230  25   0   0   0   0   0   0   0   0\n",
      "    7 135 253 186  12   0   0   0   0   0]\n",
      " [  0   0   0   0   0   0  85 252 223   0   0   0   0   0   0   0   0   7\n",
      "  131 252 225  71   0   0   0   0   0   0]\n",
      " [  0   0   0   0   0   0  85 252 145   0   0   0   0   0   0   0  48 165\n",
      "  252 173   0   0   0   0   0   0   0   0]\n",
      " [  0   0   0   0   0   0  86 253 225   0   0   0   0   0   0 114 238 253\n",
      "  162   0   0   0   0   0   0   0   0   0]\n",
      " [  0   0   0   0   0   0  85 252 249 146  48  29  85 178 225 253 223 167\n",
      "   56   0   0   0   0   0   0   0   0   0]\n",
      " [  0   0   0   0   0   0  85 252 252 252 229 215 252 252 252 196 130   0\n",
      "    0   0   0   0   0   0   0   0   0   0]\n",
      " [  0   0   0   0   0   0  28 199 252 252 253 252 252 233 145   0   0   0\n",
      "    0   0   0   0   0   0   0   0   0   0]\n",
      " [  0   0   0   0   0   0   0  25 128 252 253 252 141  37   0   0   0   0\n",
      "    0   0   0   0   0   0   0   0   0   0]\n",
      " [  0   0   0   0   0   0   0   0   0   0   0   0   0   0   0   0   0   0\n",
      "    0   0   0   0   0   0   0   0   0   0]\n",
      " [  0   0   0   0   0   0   0   0   0   0   0   0   0   0   0   0   0   0\n",
      "    0   0   0   0   0   0   0   0   0   0]\n",
      " [  0   0   0   0   0   0   0   0   0   0   0   0   0   0   0   0   0   0\n",
      "    0   0   0   0   0   0   0   0   0   0]\n",
      " [  0   0   0   0   0   0   0   0   0   0   0   0   0   0   0   0   0   0\n",
      "    0   0   0   0   0   0   0   0   0   0]]\n"
     ]
    }
   ],
   "source": [
    "# If you want to look at specfic item in the array try this\n",
    "# Note:-- you will see the following gives the error as array items are 0 - 59999 > total 60000 \n",
    "#      -- print(X_train[60000])\n",
    "# Note:-- The following will work\n",
    "#      -- print(X_train[0])\n",
    "#      -- print(X_train[59999])\n",
    "print(X_train[1])"
   ]
  },
  {
   "cell_type": "code",
   "execution_count": 12,
   "metadata": {},
   "outputs": [
    {
     "data": {
      "image/png": "[encoded data removed]",
      "text/plain": [
       "<matplotlib.figure.Figure at 0x124b12160>"
      ]
     },
     "metadata": {},
     "output_type": "display_data"
    }
   ],
   "source": [
    "from matplotlib import pyplot as plt\n",
    "plt.imshow(X_train[0]) # Note: Sometimes you need to call pyplot.show() to display the image\n",
    "# Try this too -- plt.imshow(X_train[0], aspect = 'auto')\n",
    "plt.show()"
   ]
  },
  {
   "cell_type": "code",
   "execution_count": 13,
   "metadata": {},
   "outputs": [
    {
     "data": {
      "image/png": "[encoded data removed]",
      "text/plain": [
       "<matplotlib.figure.Figure at 0x129a096a0>"
      ]
     },
     "metadata": {},
     "output_type": "display_data"
    }
   ],
   "source": [
    "plt.imshow(X_train[1], cmap=plt.get_cmap('gray'))\n",
    "plt.show()"
   ]
  },
  {
   "cell_type": "code",
   "execution_count": 14,
   "metadata": {},
   "outputs": [
    {
     "data": {
      "image/png": "[encoded data removed]",
      "text/plain": [
       "<matplotlib.figure.Figure at 0x129bd8128>"
      ]
     },
     "metadata": {},
     "output_type": "display_data"
    }
   ],
   "source": [
    "plt.imshow(X_train[0], cmap=plt.get_cmap('gray'))\n",
    "plt.show()"
   ]
  },
  {
   "cell_type": "code",
   "execution_count": 15,
   "metadata": {},
   "outputs": [
    {
     "data": {
      "image/png": "[encoded data removed]",
      "text/plain": [
       "<matplotlib.figure.Figure at 0x129bfc8d0>"
      ]
     },
     "metadata": {},
     "output_type": "display_data"
    }
   ],
   "source": [
    "#UNDERSTANDING showing image various ways\n",
    "fig1 = plt.figure() # create a figure with the default size \n",
    "\n",
    "#im1 = np.random.rand(5,5)\n",
    "ax1 = fig1.add_subplot(2,2,1) \n",
    "ax1.imshow(X_train[2], interpolation='none')\n",
    "ax1.set_title('5 X 5')\n",
    "\n",
    "#im2 = np.random.rand(50,50)\n",
    "ax2 = fig1.add_subplot(4,4,4)\n",
    "ax2.imshow(X_train[2000], interpolation='none')\n",
    "ax2.set_title('100 X 100')\n",
    "\n",
    "\n",
    "#im3 = np.random.rand(100,100)\n",
    "ax3 = fig1.add_subplot(10,10,5) \n",
    "ax3.imshow(X_train[999], interpolation='none')\n",
    "ax3.set_title('5 X 5')\n",
    "\n",
    "plt.show()"
   ]
  },
  {
   "cell_type": "code",
   "execution_count": 19,
   "metadata": {},
   "outputs": [
    {
     "data": {
      "text/plain": [
       "(60000, 1, 28, 28)"
      ]
     },
     "execution_count": 19,
     "metadata": {},
     "output_type": "execute_result"
    }
   ],
   "source": [
    "X_train.shape"
   ]
  },
  {
   "cell_type": "markdown",
   "metadata": {},
   "source": [
    "** Now we are starting Preprocessing with KERAS **"
   ]
  },
  {
   "cell_type": "code",
   "execution_count": 18,
   "metadata": {},
   "outputs": [
    {
     "name": "stdout",
     "output_type": "stream",
     "text": [
      "28\n"
     ]
    }
   ],
   "source": [
    "#Note There is another way to flatten the image. The training dataset is structured as a 3-dimensional array of instance, image width and image height. \n",
    "# For a multi-layer perceptron model we must reduce the images down into a vector of pixels. \n",
    "# In this case the 28×28 sized images will be 784 pixel input values.\n",
    "# We can do this transform easily using the reshape() function on the NumPy array. \n",
    "# We can also reduce our memory requirements by forcing the precision of the pixel values to be 32 bit, \n",
    "# the default precision used by Keras anyway.\n",
    "\n",
    "# flatten 28*28 images to a 784 vector for each image\n",
    "num_pixels = X_train.shape[1] * X_train.shape[2]\n",
    "print(num_pixels)\n",
    "#X_train = X_train.reshape(X_train.shape[0], num_pixels).astype('float32')\n",
    "#X_test = X_test.reshape(X_test.shape[0], num_pixels).astype('float32')\n",
    "\n",
    "#NOTE: Above or Below Option"
   ]
  },
  {
   "cell_type": "code",
   "execution_count": 20,
   "metadata": {},
   "outputs": [],
   "source": [
    "# With Theano, you must explicitly declare a dimension for the depth of the input image. \n",
    "# COLOR - For example, a full-color image with all 3 RGB channels will have a depth of 3.\n",
    "# MNIST images only have a depth of 1, but we must explicitly declare that.\n",
    "# Target: transforming dataset from having shape (n, width, height) to (n, depth, width, height)\n",
    "\n",
    "X_train = X_train.reshape(X_train.shape[0], 1, 28, 28)\n",
    "X_test = X_test.reshape(X_test.shape[0], 1, 28, 28)"
   ]
  },
  {
   "cell_type": "code",
   "execution_count": 22,
   "metadata": {},
   "outputs": [
    {
     "ename": "SyntaxError",
     "evalue": "Missing parentheses in call to 'print' (<ipython-input-22-c845fab60855>, line 2)",
     "output_type": "error",
     "traceback": [
      "\u001b[0;36m  File \u001b[0;32m\"<ipython-input-22-c845fab60855>\"\u001b[0;36m, line \u001b[0;32m2\u001b[0m\n\u001b[0;31m    print X_test.shape\u001b[0m\n\u001b[0m               ^\u001b[0m\n\u001b[0;31mSyntaxError\u001b[0m\u001b[0;31m:\u001b[0m Missing parentheses in call to 'print'\n"
     ]
    }
   ],
   "source": [
    "# Note: Confirming that we have depth included in the images.\n",
    "print X_test.shape\n",
    "print X_test.shape[0]\n",
    "print X_test.shape[1]\n",
    "print X_test.shape[2]\n",
    "print(X_test.shape[3])\n",
    "# (60000, 1, 28, 28)"
   ]
  },
  {
   "cell_type": "code",
   "execution_count": 23,
   "metadata": {
    "collapsed": true
   },
   "outputs": [],
   "source": [
    "# convert input data > data type to float32 and normalize our data values to the range [0, 1].\n",
    "X_train = X_train.astype('float32')\n",
    "X_test = X_test.astype('float32')\n",
    "X_train /= 255\n",
    "X_test /= 255"
   ]
  },
  {
   "cell_type": "code",
   "execution_count": 24,
   "metadata": {},
   "outputs": [],
   "source": [
    "# You will see that the X_train object is of the float32 type now\n",
    "Note:X_train[1]"
   ]
  },
  {
   "cell_type": "code",
   "execution_count": 25,
   "metadata": {},
   "outputs": [
    {
     "ename": "SyntaxError",
     "evalue": "Missing parentheses in call to 'print' (<ipython-input-25-8ac96657065b>, line 8)",
     "output_type": "error",
     "traceback": [
      "\u001b[0;36m  File \u001b[0;32m\"<ipython-input-25-8ac96657065b>\"\u001b[0;36m, line \u001b[0;32m8\u001b[0m\n\u001b[0;31m    print y_train[:10]\u001b[0m\n\u001b[0m                ^\u001b[0m\n\u001b[0;31mSyntaxError\u001b[0m\u001b[0;31m:\u001b[0m Missing parentheses in call to 'print'\n"
     ]
    }
   ],
   "source": [
    "# Hmm... that may be problematic. \n",
    "# We should have 10 different classes, one for each digit, \n",
    "# Total items in the object\n",
    "print(y_train.shape)\n",
    "# Following shows 1-dimensional array of 60000 items\n",
    "print(y_train)\n",
    "# Let's take a look at the labels for the first 10 training samples or 1 to 11th\n",
    "print y_train[:10]\n",
    "# Let's take a look at the labels from 1st to 11th\n",
    "print y_train[1:11]"
   ]
  },
  {
   "cell_type": "code",
   "execution_count": 26,
   "metadata": {
    "collapsed": true
   },
   "outputs": [],
   "source": [
    "# PROBLEM: The y_train and y_test data are not split into 10 distinct class labels\n",
    "#          both y_train and y_test data are represented as a single array with the class values.\n",
    "# Fix:     Convert 1-dimensional class arrays to 10-dimensional class matrices\n",
    "Y_train = np_utils.to_categorical(y_train, 10)\n",
    "Y_test = np_utils.to_categorical(y_test, 10)"
   ]
  },
  {
   "cell_type": "code",
   "execution_count": 27,
   "metadata": {},
   "outputs": [
    {
     "ename": "SyntaxError",
     "evalue": "Missing parentheses in call to 'print' (<ipython-input-27-cfdee1625d02>, line 2)",
     "output_type": "error",
     "traceback": [
      "\u001b[0;36m  File \u001b[0;32m\"<ipython-input-27-cfdee1625d02>\"\u001b[0;36m, line \u001b[0;32m2\u001b[0m\n\u001b[0;31m    print Y_train.shape\u001b[0m\n\u001b[0m                ^\u001b[0m\n\u001b[0;31mSyntaxError\u001b[0m\u001b[0;31m:\u001b[0m Missing parentheses in call to 'print'\n"
     ]
    }
   ],
   "source": [
    "# We can see that both Y_train and y_test are two dimensional array\n",
    "print Y_train.shape\n",
    "print Y_test.shape"
   ]
  },
  {
   "cell_type": "markdown",
   "metadata": {},
   "source": [
    "** Working on Model **"
   ]
  },
  {
   "cell_type": "code",
   "execution_count": 28,
   "metadata": {},
   "outputs": [],
   "source": [
    "#Declaring a sequential model\n",
    "model = Sequential()\n",
    "# Note: If you call the following you will see that there is no layer added to the model\n",
    "# print(model.output_shape)"
   ]
  },
  {
   "cell_type": "code",
   "execution_count": 29,
   "metadata": {},
   "outputs": [
    {
     "name": "stdout",
     "output_type": "stream",
     "text": [
      "(None, 1, 28, 32)\n"
     ]
    },
    {
     "name": "stderr",
     "output_type": "stream",
     "text": [
      "/Users/avkashchauhan/anaconda3/lib/python3.6/site-packages/ipykernel_launcher.py:9: UserWarning: Update your `Conv2D` call to the Keras 2 API: `Conv2D(32, (1, 1), activation=\"relu\", input_shape=(1, 28, 28...)`\n",
      "  if __name__ == '__main__':\n"
     ]
    }
   ],
   "source": [
    "# Adding a CNN layer to the model\n",
    "\n",
    "# How to function is set for \"the number of convolution filters to use\"\n",
    "# Param 1: [32],the number of rows in each convolution kernel, \n",
    "# Param 2: [1] nb_row: Number of rows in the convolution kernel.\n",
    "# Param 3: [1] nb_col: Number of columns in the convolution kernel.\n",
    "# Note: The input_shape values are filled from (depth, width, height) >> print X_train.shape\n",
    "\n",
    "model.add(Convolution2D(32, 1, 1, activation='relu', input_shape=(1,28,28)))\n",
    "# Note: The input shape parameter should be the shape of 1 sample. In this case, \n",
    "#       it's the same (1, 28, 28) that corresponds to  the (depth, width, height) of each digit image.\n",
    "print(model.output_shape)"
   ]
  },
  {
   "cell_type": "code",
   "execution_count": 30,
   "metadata": {},
   "outputs": [
    {
     "name": "stderr",
     "output_type": "stream",
     "text": [
      "/Users/avkashchauhan/anaconda3/lib/python3.6/site-packages/ipykernel_launcher.py:1: UserWarning: Update your `Conv2D` call to the Keras 2 API: `Conv2D(32, (1, 1), activation=\"relu\")`\n",
      "  \"\"\"Entry point for launching an IPython kernel.\n"
     ]
    }
   ],
   "source": [
    "model.add(Convolution2D(32, 1, 1, activation='relu'))\n",
    "model.add(MaxPooling2D(pool_size=(1,1)))\n",
    "model.add(Dropout(0.25))"
   ]
  },
  {
   "cell_type": "code",
   "execution_count": 31,
   "metadata": {
    "collapsed": true
   },
   "outputs": [],
   "source": [
    "model.add(Flatten())\n",
    "model.add(Dense(128, activation='relu'))\n",
    "model.add(Dropout(0.5))\n",
    "model.add(Dense(10, activation='softmax'))"
   ]
  },
  {
   "cell_type": "code",
   "execution_count": 32,
   "metadata": {
    "collapsed": true
   },
   "outputs": [],
   "source": [
    "model.compile(loss='categorical_crossentropy',\n",
    "              optimizer='adam',\n",
    "              metrics=['accuracy'])"
   ]
  },
  {
   "cell_type": "code",
   "execution_count": 50,
   "metadata": {},
   "outputs": [
    {
     "name": "stdout",
     "output_type": "stream",
     "text": [
      "Epoch 1/100\n",
      " 1120/60000 [..............................] - ETA: 8s - loss: 0.0954 - acc: 0.9679"
     ]
    },
    {
     "name": "stderr",
     "output_type": "stream",
     "text": [
      "/Users/avkashchauhan/anaconda3/lib/python3.6/site-packages/keras/models.py:851: UserWarning: The `nb_epoch` argument in `fit` has been renamed `epochs`.\n",
      "  warnings.warn('The `nb_epoch` argument in `fit` '\n"
     ]
    },
    {
     "name": "stdout",
     "output_type": "stream",
     "text": [
      "60000/60000 [==============================] - 7s - loss: 0.0929 - acc: 0.9703     \n",
      "Epoch 2/100\n",
      "60000/60000 [==============================] - 7s - loss: 0.0893 - acc: 0.9729     \n",
      "Epoch 3/100\n",
      "60000/60000 [==============================] - 8s - loss: 0.0867 - acc: 0.9727     \n",
      "Epoch 4/100\n",
      "60000/60000 [==============================] - 8s - loss: 0.0866 - acc: 0.9729     \n",
      "Epoch 5/100\n",
      "60000/60000 [==============================] - 8s - loss: 0.0827 - acc: 0.9740     \n",
      "Epoch 6/100\n",
      "60000/60000 [==============================] - 9s - loss: 0.0821 - acc: 0.9741     \n",
      "Epoch 7/100\n",
      "60000/60000 [==============================] - 8s - loss: 0.0804 - acc: 0.9744     \n",
      "Epoch 8/100\n",
      "60000/60000 [==============================] - 8s - loss: 0.0783 - acc: 0.9753     \n",
      "Epoch 9/100\n",
      "60000/60000 [==============================] - 8s - loss: 0.0778 - acc: 0.9754     \n",
      "Epoch 10/100\n",
      "60000/60000 [==============================] - ETA: 0s - loss: 0.0746 - acc: 0.975 - 8s - loss: 0.0746 - acc: 0.9752     \n",
      "Epoch 11/100\n",
      "60000/60000 [==============================] - 9s - loss: 0.0760 - acc: 0.9761     \n",
      "Epoch 12/100\n",
      "60000/60000 [==============================] - 8s - loss: 0.0724 - acc: 0.9770     \n",
      "Epoch 13/100\n",
      "60000/60000 [==============================] - 7s - loss: 0.0713 - acc: 0.9772     \n",
      "Epoch 14/100\n",
      "60000/60000 [==============================] - 8s - loss: 0.0696 - acc: 0.9776     \n",
      "Epoch 15/100\n",
      "60000/60000 [==============================] - 7s - loss: 0.0712 - acc: 0.9771     \n",
      "Epoch 16/100\n",
      "60000/60000 [==============================] - 7s - loss: 0.0694 - acc: 0.9780     \n",
      "Epoch 17/100\n",
      "60000/60000 [==============================] - 7s - loss: 0.0657 - acc: 0.9781     \n",
      "Epoch 18/100\n",
      "60000/60000 [==============================] - 7s - loss: 0.0686 - acc: 0.9780     \n",
      "Epoch 19/100\n",
      "60000/60000 [==============================] - 7s - loss: 0.0669 - acc: 0.9775     \n",
      "Epoch 20/100\n",
      "60000/60000 [==============================] - 8s - loss: 0.0669 - acc: 0.9781     \n",
      "Epoch 21/100\n",
      "60000/60000 [==============================] - 7s - loss: 0.0651 - acc: 0.9790     \n",
      "Epoch 22/100\n",
      "60000/60000 [==============================] - 8s - loss: 0.0649 - acc: 0.9789     \n",
      "Epoch 23/100\n",
      "60000/60000 [==============================] - 8s - loss: 0.0657 - acc: 0.9781     \n",
      "Epoch 24/100\n",
      "60000/60000 [==============================] - 9s - loss: 0.0583 - acc: 0.9810     \n",
      "Epoch 25/100\n",
      "60000/60000 [==============================] - 9s - loss: 0.0623 - acc: 0.9795     \n",
      "Epoch 26/100\n",
      "60000/60000 [==============================] - 8s - loss: 0.0618 - acc: 0.9799     \n",
      "Epoch 27/100\n",
      "60000/60000 [==============================] - 8s - loss: 0.0608 - acc: 0.9801     \n",
      "Epoch 28/100\n",
      "60000/60000 [==============================] - 8s - loss: 0.0636 - acc: 0.9796     \n",
      "Epoch 29/100\n",
      "60000/60000 [==============================] - 8s - loss: 0.0638 - acc: 0.9793     \n",
      "Epoch 30/100\n",
      "60000/60000 [==============================] - 8s - loss: 0.0611 - acc: 0.9804     \n",
      "Epoch 31/100\n",
      "60000/60000 [==============================] - 8s - loss: 0.0605 - acc: 0.9806     \n",
      "Epoch 32/100\n",
      "60000/60000 [==============================] - 8s - loss: 0.0616 - acc: 0.9799     \n",
      "Epoch 33/100\n",
      "60000/60000 [==============================] - 8s - loss: 0.0599 - acc: 0.9812     \n",
      "Epoch 34/100\n",
      "60000/60000 [==============================] - 8s - loss: 0.0606 - acc: 0.9807     \n",
      "Epoch 35/100\n",
      "60000/60000 [==============================] - 8s - loss: 0.0591 - acc: 0.9807     \n",
      "Epoch 36/100\n",
      "60000/60000 [==============================] - 8s - loss: 0.0575 - acc: 0.9816     \n",
      "Epoch 37/100\n",
      "60000/60000 [==============================] - 9s - loss: 0.0603 - acc: 0.9811     \n",
      "Epoch 38/100\n",
      "60000/60000 [==============================] - 8s - loss: 0.0572 - acc: 0.9815     \n",
      "Epoch 39/100\n",
      "60000/60000 [==============================] - 8s - loss: 0.0582 - acc: 0.9812     \n",
      "Epoch 40/100\n",
      "60000/60000 [==============================] - 8s - loss: 0.0586 - acc: 0.9813     \n",
      "Epoch 41/100\n",
      "60000/60000 [==============================] - 8s - loss: 0.0577 - acc: 0.9810     \n",
      "Epoch 42/100\n",
      "60000/60000 [==============================] - 7s - loss: 0.0549 - acc: 0.9821     \n",
      "Epoch 43/100\n",
      "60000/60000 [==============================] - 8s - loss: 0.0556 - acc: 0.9816     \n",
      "Epoch 44/100\n",
      "60000/60000 [==============================] - 7s - loss: 0.0569 - acc: 0.9816     \n",
      "Epoch 45/100\n",
      "60000/60000 [==============================] - 7s - loss: 0.0555 - acc: 0.9820     \n",
      "Epoch 46/100\n",
      "60000/60000 [==============================] - 8s - loss: 0.0546 - acc: 0.9822     \n",
      "Epoch 47/100\n",
      "60000/60000 [==============================] - 8s - loss: 0.0547 - acc: 0.9824     \n",
      "Epoch 48/100\n",
      "60000/60000 [==============================] - 8s - loss: 0.0560 - acc: 0.9818     \n",
      "Epoch 49/100\n",
      "60000/60000 [==============================] - 8s - loss: 0.0559 - acc: 0.9823     \n",
      "Epoch 50/100\n",
      "60000/60000 [==============================] - 8s - loss: 0.0562 - acc: 0.9819     \n",
      "Epoch 51/100\n",
      "60000/60000 [==============================] - 8s - loss: 0.0548 - acc: 0.9825     \n",
      "Epoch 52/100\n",
      "60000/60000 [==============================] - 7s - loss: 0.0548 - acc: 0.9822     \n",
      "Epoch 53/100\n",
      "60000/60000 [==============================] - 7s - loss: 0.0544 - acc: 0.9825     \n",
      "Epoch 54/100\n",
      "60000/60000 [==============================] - 7s - loss: 0.0553 - acc: 0.9821     \n",
      "Epoch 55/100\n",
      "60000/60000 [==============================] - 7s - loss: 0.0520 - acc: 0.9830     \n",
      "Epoch 56/100\n",
      "60000/60000 [==============================] - 7s - loss: 0.0535 - acc: 0.9827     \n",
      "Epoch 57/100\n",
      "60000/60000 [==============================] - 7s - loss: 0.0548 - acc: 0.9816     \n",
      "Epoch 58/100\n",
      "60000/60000 [==============================] - 7s - loss: 0.0513 - acc: 0.9828     \n",
      "Epoch 59/100\n",
      "60000/60000 [==============================] - 7s - loss: 0.0564 - acc: 0.9822     \n",
      "Epoch 60/100\n",
      "60000/60000 [==============================] - 7s - loss: 0.0514 - acc: 0.9834     \n",
      "Epoch 61/100\n",
      "60000/60000 [==============================] - 7s - loss: 0.0521 - acc: 0.9832     \n",
      "Epoch 62/100\n",
      "60000/60000 [==============================] - 7s - loss: 0.0556 - acc: 0.9820     \n",
      "Epoch 63/100\n",
      "60000/60000 [==============================] - 7s - loss: 0.0548 - acc: 0.9818     \n",
      "Epoch 64/100\n",
      "60000/60000 [==============================] - 8s - loss: 0.0520 - acc: 0.9830     \n",
      "Epoch 65/100\n",
      "60000/60000 [==============================] - 10s - loss: 0.0517 - acc: 0.9830    \n",
      "Epoch 66/100\n",
      "60000/60000 [==============================] - 11s - loss: 0.0505 - acc: 0.9830    \n",
      "Epoch 67/100\n",
      "60000/60000 [==============================] - 10s - loss: 0.0525 - acc: 0.9829    \n",
      "Epoch 68/100\n",
      "60000/60000 [==============================] - 10s - loss: 0.0508 - acc: 0.9834    \n",
      "Epoch 69/100\n",
      "60000/60000 [==============================] - 11s - loss: 0.0526 - acc: 0.9831    \n",
      "Epoch 70/100\n",
      "60000/60000 [==============================] - 10s - loss: 0.0528 - acc: 0.9828    \n",
      "Epoch 71/100\n",
      "60000/60000 [==============================] - 10s - loss: 0.0521 - acc: 0.9824    \n",
      "Epoch 72/100\n",
      "60000/60000 [==============================] - 11s - loss: 0.0516 - acc: 0.9832    \n",
      "Epoch 73/100\n",
      "60000/60000 [==============================] - 10s - loss: 0.0492 - acc: 0.9845    \n",
      "Epoch 74/100\n",
      "60000/60000 [==============================] - 10s - loss: 0.0504 - acc: 0.9835    \n",
      "Epoch 75/100\n",
      "60000/60000 [==============================] - 10s - loss: 0.0492 - acc: 0.9841    \n",
      "Epoch 76/100\n",
      "60000/60000 [==============================] - 10s - loss: 0.0502 - acc: 0.9839    \n",
      "Epoch 77/100\n",
      "60000/60000 [==============================] - 10s - loss: 0.0499 - acc: 0.9837    \n",
      "Epoch 78/100\n",
      "60000/60000 [==============================] - 11s - loss: 0.0508 - acc: 0.9835    \n",
      "Epoch 79/100\n",
      "60000/60000 [==============================] - 11s - loss: 0.0474 - acc: 0.9844    \n",
      "Epoch 80/100\n",
      "60000/60000 [==============================] - 10s - loss: 0.0496 - acc: 0.9834    \n",
      "Epoch 81/100\n",
      "60000/60000 [==============================] - 10s - loss: 0.0507 - acc: 0.9839    \n",
      "Epoch 82/100\n",
      "60000/60000 [==============================] - 10s - loss: 0.0522 - acc: 0.9835    \n",
      "Epoch 83/100\n",
      "60000/60000 [==============================] - 10s - loss: 0.0496 - acc: 0.9835    \n",
      "Epoch 84/100\n",
      "60000/60000 [==============================] - 10s - loss: 0.0493 - acc: 0.9843    \n",
      "Epoch 85/100\n"
     ]
    },
    {
     "name": "stdout",
     "output_type": "stream",
     "text": [
      "60000/60000 [==============================] - 8s - loss: 0.0499 - acc: 0.9837     \n",
      "Epoch 86/100\n",
      "60000/60000 [==============================] - 8s - loss: 0.0484 - acc: 0.9850     \n",
      "Epoch 87/100\n",
      "60000/60000 [==============================] - 8s - loss: 0.0501 - acc: 0.9837     \n",
      "Epoch 88/100\n",
      "60000/60000 [==============================] - 8s - loss: 0.0494 - acc: 0.9839     \n",
      "Epoch 89/100\n",
      "60000/60000 [==============================] - 9s - loss: 0.0485 - acc: 0.9843     \n",
      "Epoch 90/100\n",
      "60000/60000 [==============================] - 8s - loss: 0.0491 - acc: 0.9843     \n",
      "Epoch 91/100\n",
      "60000/60000 [==============================] - 8s - loss: 0.0489 - acc: 0.9840     \n",
      "Epoch 92/100\n",
      "60000/60000 [==============================] - 8s - loss: 0.0477 - acc: 0.9839     \n",
      "Epoch 93/100\n",
      "60000/60000 [==============================] - 8s - loss: 0.0468 - acc: 0.9846     \n",
      "Epoch 94/100\n",
      "60000/60000 [==============================] - 9s - loss: 0.0466 - acc: 0.9850     \n",
      "Epoch 95/100\n",
      "60000/60000 [==============================] - 9s - loss: 0.0509 - acc: 0.9840     \n",
      "Epoch 96/100\n",
      "60000/60000 [==============================] - 8s - loss: 0.0478 - acc: 0.9850     \n",
      "Epoch 97/100\n",
      "60000/60000 [==============================] - 8s - loss: 0.0473 - acc: 0.9846     \n",
      "Epoch 98/100\n",
      "60000/60000 [==============================] - 8s - loss: 0.0463 - acc: 0.9847     \n",
      "Epoch 99/100\n",
      "60000/60000 [==============================] - 10s - loss: 0.0480 - acc: 0.9840    \n",
      "Epoch 100/100\n",
      "60000/60000 [==============================] - 9s - loss: 0.0486 - acc: 0.9843     \n"
     ]
    },
    {
     "data": {
      "text/plain": [
       "<keras.callbacks.History at 0x135b369e8>"
      ]
     },
     "execution_count": 50,
     "metadata": {},
     "output_type": "execute_result"
    }
   ],
   "source": [
    "model.fit(X_train, Y_train, \n",
    "          batch_size=32, nb_epoch=100, verbose=1)"
   ]
  },
  {
   "cell_type": "code",
   "execution_count": 53,
   "metadata": {
    "collapsed": true
   },
   "outputs": [],
   "source": [
    "MODEL_SAVE_DIR = '/Users/avkashchauhan/learn/keras_work/'\n",
    "\n",
    "model.save_weights(MODEL_SAVE_DIR + 'mnist_weight_100.h5')\n",
    "\n",
    "# Configuration\n",
    "model.save( MODEL_SAVE_DIR + 'mnist_full_100.HDF5')\n",
    "\n",
    "# serialize model to JSON\n",
    "model_json_file = MODEL_SAVE_DIR + 'mnist_config_100.json'\n",
    "model_json = model.to_json()\n",
    "with open(model_json_file, \"w\") as json_file:\n",
    "    json_file.write(model_json)\n"
   ]
  },
  {
   "cell_type": "code",
   "execution_count": null,
   "metadata": {},
   "outputs": [],
   "source": [
    "print model"
   ]
  },
  {
   "cell_type": "code",
   "execution_count": null,
   "metadata": {},
   "outputs": [],
   "source": [
    "score = model.evaluate(X_test, Y_test, verbose=1)"
   ]
  },
  {
   "cell_type": "code",
   "execution_count": null,
   "metadata": {},
   "outputs": [],
   "source": [
    "print(score)\n",
    "print(\"Baseline Error: %.2f%%\" % (100-score[1]*100))"
   ]
  },
  {
   "cell_type": "code",
   "execution_count": null,
   "metadata": {},
   "outputs": [],
   "source": [
    "print(Y_train[0])\n",
    "print(y_train[0])\n",
    "print(X_train[0].shape)\n"
   ]
  },
  {
   "cell_type": "code",
   "execution_count": 38,
   "metadata": {},
   "outputs": [
    {
     "data": {
      "text/plain": [
       "(1, 28, 28)"
      ]
     },
     "execution_count": 38,
     "metadata": {},
     "output_type": "execute_result"
    }
   ],
   "source": [
    "X_train[0].shape"
   ]
  },
  {
   "cell_type": "code",
   "execution_count": 35,
   "metadata": {},
   "outputs": [],
   "source": [
    "X_1 = X_train[0].reshape(X_train[0].shape[0], 1, 28, 28)"
   ]
  },
  {
   "cell_type": "code",
   "execution_count": 39,
   "metadata": {},
   "outputs": [
    {
     "data": {
      "text/plain": [
       "(1, 1, 28, 28)"
      ]
     },
     "execution_count": 39,
     "metadata": {},
     "output_type": "execute_result"
    }
   ],
   "source": [
    "X_1.shape"
   ]
  },
  {
   "cell_type": "code",
   "execution_count": 51,
   "metadata": {},
   "outputs": [
    {
     "name": "stdout",
     "output_type": "stream",
     "text": [
      "1/1 [==============================] - 0s\n"
     ]
    },
    {
     "data": {
      "image/png": "[encoded data removed]",
      "text/plain": [
       "<matplotlib.figure.Figure at 0x135e65eb8>"
      ]
     },
     "metadata": {},
     "output_type": "display_data"
    }
   ],
   "source": [
    "pred1 = model.predict(X_1,batch_size=32, verbose=1)\n",
    "#print pred1\n",
    "#print pred1[0]\n",
    "xbar = range(len(pred1[0]))\n",
    "#print xbar\n",
    "plt.bar(xbar,pred1[0])\n",
    "#print np.argmax(pred1[0])\n",
    "plt.show()"
   ]
  },
  {
   "cell_type": "code",
   "execution_count": null,
   "metadata": {},
   "outputs": [],
   "source": [
    "print(X_1.shape)\n",
    "print(y_train[0])"
   ]
  },
  {
   "cell_type": "code",
   "execution_count": null,
   "metadata": {},
   "outputs": [],
   "source": [
    "Y_test[0]"
   ]
  },
  {
   "cell_type": "code",
   "execution_count": null,
   "metadata": {},
   "outputs": [],
   "source": [
    "label1 = np.argmax(pred1[0])\n",
    "print label1"
   ]
  },
  {
   "cell_type": "code",
   "execution_count": 40,
   "metadata": {},
   "outputs": [
    {
     "name": "stdout",
     "output_type": "stream",
     "text": [
      "(1, 1, 28, 28)\n"
     ]
    }
   ],
   "source": [
    "X_2 = X_train[1].reshape(X_train[1].shape[0], 1, 28, 28)\n",
    "print(X_2.shape)"
   ]
  },
  {
   "cell_type": "code",
   "execution_count": 42,
   "metadata": {},
   "outputs": [
    {
     "name": "stdout",
     "output_type": "stream",
     "text": [
      "1/1 [==============================] - 0s\n"
     ]
    }
   ],
   "source": [
    "pred2 = model.predict(X_2,batch_size=32, verbose=1)\n",
    "#print pred2[0]\n",
    "#print np.argmax(pred2[0])\n"
   ]
  },
  {
   "cell_type": "code",
   "execution_count": 52,
   "metadata": {},
   "outputs": [
    {
     "data": {
      "image/png": "[encoded data removed]",
      "text/plain": [
       "<matplotlib.figure.Figure at 0x135a3e9e8>"
      ]
     },
     "metadata": {},
     "output_type": "display_data"
    }
   ],
   "source": [
    "xbar = range(len(pred2[0]))\n",
    "#print xbar\n",
    "plt.bar(xbar,pred2[0])\n",
    "#print np.argmax(pred1[0])\n",
    "plt.show()"
   ]
  },
  {
   "cell_type": "code",
   "execution_count": 44,
   "metadata": {
    "collapsed": true
   },
   "outputs": [],
   "source": [
    "from deeputil.imageassist import ImageUtils"
   ]
  },
  {
   "cell_type": "code",
   "execution_count": 45,
   "metadata": {},
   "outputs": [
    {
     "name": "stdout",
     "output_type": "stream",
     "text": [
      "Now importing selected image from the disk...\n",
      "Image as array shape: (28, 28, 1)\n"
     ]
    }
   ],
   "source": [
    "img= ImageUtils.import_image_from_disk('/Users/avkashchauhan/learn/keras_work/mnist-00.png', (28,28),isGray=True)\n",
    "img_array = ImageUtils.convert_image_array(img)\n"
   ]
  },
  {
   "cell_type": "code",
   "execution_count": 47,
   "metadata": {},
   "outputs": [
    {
     "name": "stdout",
     "output_type": "stream",
     "text": [
      "(1, 1, 28, 28)\n"
     ]
    }
   ],
   "source": [
    "img_array_1 = img_array.reshape(1, 1, 28, 28)\n",
    "print(img_array_1.shape)"
   ]
  },
  {
   "cell_type": "code",
   "execution_count": 49,
   "metadata": {},
   "outputs": [
    {
     "name": "stdout",
     "output_type": "stream",
     "text": [
      "1/1 [==============================] - 0s\n"
     ]
    },
    {
     "data": {
      "image/png": "[encoded data removed]",
      "text/plain": [
       "<matplotlib.figure.Figure at 0x112cb5668>"
      ]
     },
     "metadata": {},
     "output_type": "display_data"
    }
   ],
   "source": [
    "pred2 = model.predict(img_array_1,batch_size=32, verbose=1)\n",
    "xbar = range(len(pred2[0]))\n",
    "plt.bar(xbar,pred2[0])\n",
    "plt.show()"
   ]
  },
  {
   "cell_type": "code",
   "execution_count": null,
   "metadata": {
    "collapsed": true
   },
   "outputs": [],
   "source": []
  }
 ],
 "metadata": {
  "kernelspec": {
   "display_name": "Python 3",
   "language": "python",
   "name": "python3"
  },
  "language_info": {
   "codemirror_mode": {
    "name": "ipython",
    "version": 3
   },
   "file_extension": ".py",
   "mimetype": "text/x-python",
   "name": "python",
   "nbconvert_exporter": "python",
   "pygments_lexer": "ipython3",
   "version": "3.6.1"
  }
 },
 "nbformat": 4,
 "nbformat_minor": 1
}
