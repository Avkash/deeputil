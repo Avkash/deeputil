{
 "cells": [
  {
   "cell_type": "code",
   "execution_count": 1,
   "metadata": {},
   "outputs": [
    {
     "name": "stderr",
     "output_type": "stream",
     "text": [
      "Using TensorFlow backend.\n"
     ]
    }
   ],
   "source": [
    "import tensorflow\n",
    "from deeputil.modelassist import Classify"
   ]
  },
  {
   "cell_type": "code",
   "execution_count": 4,
   "metadata": {
    "collapsed": true
   },
   "outputs": [],
   "source": [
    "img_path_1 =  \"/Users/avkashchauhan/learn/workshop2017/recognize-me.jpg\""
   ]
  },
  {
   "cell_type": "markdown",
   "metadata": {},
   "source": [
    "For the following function you just need two parameters: \n",
    "\n",
    "   Classify.perform_image_classification_by_network(full_qualitified_local_image_path, preconfigured_network)\n",
    "\n",
    "For Preconfigured Network choice, the available imagenet network selections are as below:\n",
    " - VGG16\n",
    " - VGG19\n",
    " - RESNET50\n",
    " - INCEPTION_V3\n",
    " - XCEPTION"
   ]
  },
  {
   "cell_type": "code",
   "execution_count": 5,
   "metadata": {},
   "outputs": [
    {
     "name": "stdout",
     "output_type": "stream",
     "text": [
      "Getting selected Image network with 1000 classes first..\n",
      "VGG19 model is ~0.5GB, make sure you have time and space...\n",
      "Now collecting information about selected network model..\n",
      "Calculating model layers...\n",
      "Total layers in this model are : 26\n",
      "Info: Model has 26 layers..\n",
      "Now getting input image size from the network first layer..\n",
      "Now getting very first layer from model..\n",
      "The layer Input Shape is (None, 224, 224, 3)\n",
      "You would need to import image of this size - (224, 224, 3)\n",
      "Model will need an image of type (224, 224) to perform classification\n",
      "Now importing image based on input layer size and transforming it according to network input layer\n",
      "Now importing selected image from the disk...\n",
      "Image as array shape:\n",
      "Now pre-processing the image to get ready for classification..\n",
      "Now perform image classification based in selected network\n",
      "Starting process to generate classes probabilities now..\n",
      "Classification completed, now generating prediction dataframe ..\n",
      "Classification is done!!\n"
     ]
    }
   ],
   "source": [
    "# In this example the messages are visible as show_info is set to True by default\n",
    "result_vgg19 = Classify.perform_image_classification_by_network(img_path_1,  \"VGG19\", 10)"
   ]
  },
  {
   "cell_type": "code",
   "execution_count": 6,
   "metadata": {},
   "outputs": [
    {
     "data": {
      "text/html": [
       "<div>\n",
       "<style>\n",
       "    .dataframe thead tr:only-child th {\n",
       "        text-align: right;\n",
       "    }\n",
       "\n",
       "    .dataframe thead th {\n",
       "        text-align: left;\n",
       "    }\n",
       "\n",
       "    .dataframe tbody tr th {\n",
       "        vertical-align: top;\n",
       "    }\n",
       "</style>\n",
       "<table border=\"1\" class=\"dataframe\">\n",
       "  <thead>\n",
       "    <tr style=\"text-align: right;\">\n",
       "      <th></th>\n",
       "      <th>ClassName</th>\n",
       "      <th>ClassId</th>\n",
       "      <th>Probability</th>\n",
       "    </tr>\n",
       "  </thead>\n",
       "  <tbody>\n",
       "    <tr>\n",
       "      <th>0</th>\n",
       "      <td>goldfish</td>\n",
       "      <td>n01443537</td>\n",
       "      <td>0.999989</td>\n",
       "    </tr>\n",
       "    <tr>\n",
       "      <th>1</th>\n",
       "      <td>axolotl</td>\n",
       "      <td>n01632777</td>\n",
       "      <td>3.50448e-06</td>\n",
       "    </tr>\n",
       "    <tr>\n",
       "      <th>2</th>\n",
       "      <td>strawberry</td>\n",
       "      <td>n07745940</td>\n",
       "      <td>1.3492e-06</td>\n",
       "    </tr>\n",
       "    <tr>\n",
       "      <th>3</th>\n",
       "      <td>pomegranate</td>\n",
       "      <td>n07768694</td>\n",
       "      <td>9.16806e-07</td>\n",
       "    </tr>\n",
       "    <tr>\n",
       "      <th>4</th>\n",
       "      <td>Petri_dish</td>\n",
       "      <td>n03920288</td>\n",
       "      <td>8.53715e-07</td>\n",
       "    </tr>\n",
       "    <tr>\n",
       "      <th>5</th>\n",
       "      <td>cup</td>\n",
       "      <td>n07930864</td>\n",
       "      <td>4.51169e-07</td>\n",
       "    </tr>\n",
       "    <tr>\n",
       "      <th>6</th>\n",
       "      <td>eft</td>\n",
       "      <td>n01631663</td>\n",
       "      <td>3.39022e-07</td>\n",
       "    </tr>\n",
       "    <tr>\n",
       "      <th>7</th>\n",
       "      <td>beaker</td>\n",
       "      <td>n02815834</td>\n",
       "      <td>2.82862e-07</td>\n",
       "    </tr>\n",
       "    <tr>\n",
       "      <th>8</th>\n",
       "      <td>nipple</td>\n",
       "      <td>n03825788</td>\n",
       "      <td>2.80718e-07</td>\n",
       "    </tr>\n",
       "    <tr>\n",
       "      <th>9</th>\n",
       "      <td>hamster</td>\n",
       "      <td>n02342885</td>\n",
       "      <td>2.58252e-07</td>\n",
       "    </tr>\n",
       "  </tbody>\n",
       "</table>\n",
       "</div>"
      ],
      "text/plain": [
       "     ClassName    ClassId  Probability\n",
       "0     goldfish  n01443537     0.999989\n",
       "1      axolotl  n01632777  3.50448e-06\n",
       "2   strawberry  n07745940   1.3492e-06\n",
       "3  pomegranate  n07768694  9.16806e-07\n",
       "4   Petri_dish  n03920288  8.53715e-07\n",
       "5          cup  n07930864  4.51169e-07\n",
       "6          eft  n01631663  3.39022e-07\n",
       "7       beaker  n02815834  2.82862e-07\n",
       "8       nipple  n03825788  2.80718e-07\n",
       "9      hamster  n02342885  2.58252e-07"
      ]
     },
     "execution_count": 6,
     "metadata": {},
     "output_type": "execute_result"
    }
   ],
   "source": [
    "result_vgg19"
   ]
  },
  {
   "cell_type": "code",
   "execution_count": 7,
   "metadata": {
    "collapsed": true
   },
   "outputs": [],
   "source": [
    "# Plotting classification results\n",
    "from matplotlib import pyplot as plt"
   ]
  },
  {
   "cell_type": "code",
   "execution_count": 8,
   "metadata": {},
   "outputs": [
    {
     "data": {
      "image/png": "[encoded data removed]",
      "text/plain": [
       "<matplotlib.figure.Figure at 0x126cbf390>"
      ]
     },
     "metadata": {},
     "output_type": "display_data"
    }
   ],
   "source": [
    "result_vgg19.plot.bar(x = \"ClassName\", y=\"Probability\")\n",
    "plt.show()"
   ]
  },
  {
   "cell_type": "code",
   "execution_count": 9,
   "metadata": {},
   "outputs": [
    {
     "data": {
      "image/png": "[encoded data removed]",
      "text/plain": [
       "<matplotlib.figure.Figure at 0x121e78518>"
      ]
     },
     "metadata": {},
     "output_type": "display_data"
    }
   ],
   "source": [
    "from deeputil.imageassist import ImageUtils\n",
    "ImageUtils.display_image_from_disk(img_path_1, target_size=(256,256), show_info=False)"
   ]
  },
  {
   "cell_type": "code",
   "execution_count": 10,
   "metadata": {},
   "outputs": [
    {
     "name": "stdout",
     "output_type": "stream",
     "text": [
      "Getting selected Image network with 1000 classes first..\n",
      "VGG16 model is ~0.5GB, make sure you have time and space...\n",
      "Now collecting information about selected network model..\n",
      "Calculating model layers...\n",
      "Total layers in this model are : 23\n",
      "Info: Model has 23 layers..\n",
      "Now getting input image size from the network first layer..\n",
      "Now getting very first layer from model..\n",
      "The layer Input Shape is (None, 224, 224, 3)\n",
      "You would need to import image of this size - (224, 224, 3)\n",
      "Model will need an image of type (224, 224) to perform classification\n",
      "Now importing image based on input layer size and transforming it according to network input layer\n",
      "Now importing selected image from the disk...\n",
      "Image as array shape:\n",
      "Now pre-processing the image to get ready for classification..\n",
      "Now perform image classification based in selected network\n",
      "Starting process to generate classes probabilities now..\n",
      "Classification completed, now generating prediction dataframe ..\n",
      "Classification is done!!\n"
     ]
    }
   ],
   "source": [
    "# In this example the messages are NOT visible as show_info is set to False\n",
    "result_vgg16 = Classify.perform_image_classification_by_network(img_path_1,  \"VGG16\", 10, show_info=True)"
   ]
  },
  {
   "cell_type": "code",
   "execution_count": 11,
   "metadata": {},
   "outputs": [
    {
     "data": {
      "text/html": [
       "<div>\n",
       "<style>\n",
       "    .dataframe thead tr:only-child th {\n",
       "        text-align: right;\n",
       "    }\n",
       "\n",
       "    .dataframe thead th {\n",
       "        text-align: left;\n",
       "    }\n",
       "\n",
       "    .dataframe tbody tr th {\n",
       "        vertical-align: top;\n",
       "    }\n",
       "</style>\n",
       "<table border=\"1\" class=\"dataframe\">\n",
       "  <thead>\n",
       "    <tr style=\"text-align: right;\">\n",
       "      <th></th>\n",
       "      <th>ClassName</th>\n",
       "      <th>ClassId</th>\n",
       "      <th>Probability</th>\n",
       "    </tr>\n",
       "  </thead>\n",
       "  <tbody>\n",
       "    <tr>\n",
       "      <th>0</th>\n",
       "      <td>goldfish</td>\n",
       "      <td>n01443537</td>\n",
       "      <td>0.999899</td>\n",
       "    </tr>\n",
       "    <tr>\n",
       "      <th>1</th>\n",
       "      <td>axolotl</td>\n",
       "      <td>n01632777</td>\n",
       "      <td>6.3604e-05</td>\n",
       "    </tr>\n",
       "    <tr>\n",
       "      <th>2</th>\n",
       "      <td>eft</td>\n",
       "      <td>n01631663</td>\n",
       "      <td>2.61669e-05</td>\n",
       "    </tr>\n",
       "    <tr>\n",
       "      <th>3</th>\n",
       "      <td>common_newt</td>\n",
       "      <td>n01630670</td>\n",
       "      <td>1.86521e-06</td>\n",
       "    </tr>\n",
       "    <tr>\n",
       "      <th>4</th>\n",
       "      <td>strawberry</td>\n",
       "      <td>n07745940</td>\n",
       "      <td>8.20292e-07</td>\n",
       "    </tr>\n",
       "    <tr>\n",
       "      <th>5</th>\n",
       "      <td>saltshaker</td>\n",
       "      <td>n04131690</td>\n",
       "      <td>6.00984e-07</td>\n",
       "    </tr>\n",
       "    <tr>\n",
       "      <th>6</th>\n",
       "      <td>crayfish</td>\n",
       "      <td>n01985128</td>\n",
       "      <td>4.34668e-07</td>\n",
       "    </tr>\n",
       "    <tr>\n",
       "      <th>7</th>\n",
       "      <td>soap_dispenser</td>\n",
       "      <td>n04254120</td>\n",
       "      <td>4.14358e-07</td>\n",
       "    </tr>\n",
       "    <tr>\n",
       "      <th>8</th>\n",
       "      <td>barracouta</td>\n",
       "      <td>n02514041</td>\n",
       "      <td>4.12899e-07</td>\n",
       "    </tr>\n",
       "    <tr>\n",
       "      <th>9</th>\n",
       "      <td>cup</td>\n",
       "      <td>n07930864</td>\n",
       "      <td>3.84998e-07</td>\n",
       "    </tr>\n",
       "  </tbody>\n",
       "</table>\n",
       "</div>"
      ],
      "text/plain": [
       "        ClassName    ClassId  Probability\n",
       "0        goldfish  n01443537     0.999899\n",
       "1         axolotl  n01632777   6.3604e-05\n",
       "2             eft  n01631663  2.61669e-05\n",
       "3     common_newt  n01630670  1.86521e-06\n",
       "4      strawberry  n07745940  8.20292e-07\n",
       "5      saltshaker  n04131690  6.00984e-07\n",
       "6        crayfish  n01985128  4.34668e-07\n",
       "7  soap_dispenser  n04254120  4.14358e-07\n",
       "8      barracouta  n02514041  4.12899e-07\n",
       "9             cup  n07930864  3.84998e-07"
      ]
     },
     "execution_count": 11,
     "metadata": {},
     "output_type": "execute_result"
    }
   ],
   "source": [
    "result_vgg16"
   ]
  },
  {
   "cell_type": "code",
   "execution_count": 12,
   "metadata": {},
   "outputs": [
    {
     "data": {
      "image/png": "[encoded data removed]",
      "text/plain": [
       "<matplotlib.figure.Figure at 0x124944b38>"
      ]
     },
     "metadata": {},
     "output_type": "display_data"
    }
   ],
   "source": [
    "result_vgg16.plot.bar(x = \"ClassName\", y=\"Probability\")\n",
    "plt.show()"
   ]
  },
  {
   "cell_type": "code",
   "execution_count": 14,
   "metadata": {},
   "outputs": [
    {
     "name": "stdout",
     "output_type": "stream",
     "text": [
      "Getting selected Image network with 1000 classes first..\n",
      "Inception V3 model is ~0.5GB, make sure you have time and space...\n",
      "Now collecting information about selected network model..\n",
      "Calculating model layers...\n",
      "Total layers in this model are : 313\n",
      "Info: Model has 313 layers..\n",
      "Now getting input image size from the network first layer..\n",
      "Now getting very first layer from model..\n",
      "The layer Input Shape is (None, 299, 299, 3)\n",
      "You would need to import image of this size - (299, 299, 3)\n",
      "Model will need an image of type (299, 299) to perform classification\n",
      "Now importing image based on input layer size and transforming it according to network input layer\n",
      "Now importing selected image from the disk...\n",
      "Image as array shape:\n",
      "Now pre-processing the image to get ready for classification..\n",
      "Now perform image classification based in selected network\n",
      "Starting process to generate classes probabilities now..\n",
      "Classification completed, now generating prediction dataframe ..\n",
      "Classification is done!!\n"
     ]
    }
   ],
   "source": [
    "# In this example the messages are NOT visible as show_info is set to False by user choice\n",
    "result_IV3 = Classify.perform_image_classification_by_network(img_path_1,  \"INCEPTION_V3\", show_info=True)"
   ]
  },
  {
   "cell_type": "code",
   "execution_count": 15,
   "metadata": {},
   "outputs": [
    {
     "data": {
      "text/html": [
       "<div>\n",
       "<style>\n",
       "    .dataframe thead tr:only-child th {\n",
       "        text-align: right;\n",
       "    }\n",
       "\n",
       "    .dataframe thead th {\n",
       "        text-align: left;\n",
       "    }\n",
       "\n",
       "    .dataframe tbody tr th {\n",
       "        vertical-align: top;\n",
       "    }\n",
       "</style>\n",
       "<table border=\"1\" class=\"dataframe\">\n",
       "  <thead>\n",
       "    <tr style=\"text-align: right;\">\n",
       "      <th></th>\n",
       "      <th>ClassName</th>\n",
       "      <th>ClassId</th>\n",
       "      <th>Probability</th>\n",
       "    </tr>\n",
       "  </thead>\n",
       "  <tbody>\n",
       "    <tr>\n",
       "      <th>0</th>\n",
       "      <td>web_site</td>\n",
       "      <td>n06359193</td>\n",
       "      <td>1</td>\n",
       "    </tr>\n",
       "    <tr>\n",
       "      <th>1</th>\n",
       "      <td>clog</td>\n",
       "      <td>n03047690</td>\n",
       "      <td>7.01495e-09</td>\n",
       "    </tr>\n",
       "    <tr>\n",
       "      <th>2</th>\n",
       "      <td>flatworm</td>\n",
       "      <td>n01924916</td>\n",
       "      <td>3.47854e-14</td>\n",
       "    </tr>\n",
       "    <tr>\n",
       "      <th>3</th>\n",
       "      <td>binoculars</td>\n",
       "      <td>n02841315</td>\n",
       "      <td>3.06577e-16</td>\n",
       "    </tr>\n",
       "    <tr>\n",
       "      <th>4</th>\n",
       "      <td>stopwatch</td>\n",
       "      <td>n04328186</td>\n",
       "      <td>2.00717e-17</td>\n",
       "    </tr>\n",
       "  </tbody>\n",
       "</table>\n",
       "</div>"
      ],
      "text/plain": [
       "    ClassName    ClassId  Probability\n",
       "0    web_site  n06359193            1\n",
       "1        clog  n03047690  7.01495e-09\n",
       "2    flatworm  n01924916  3.47854e-14\n",
       "3  binoculars  n02841315  3.06577e-16\n",
       "4   stopwatch  n04328186  2.00717e-17"
      ]
     },
     "execution_count": 15,
     "metadata": {},
     "output_type": "execute_result"
    }
   ],
   "source": [
    "result_IV3"
   ]
  },
  {
   "cell_type": "code",
   "execution_count": null,
   "metadata": {
    "collapsed": true
   },
   "outputs": [],
   "source": [
    "result_IV3.plot.bar(x = \"ClassName\", y=\"Probability\")\n",
    "plt.show()"
   ]
  }
 ],
 "metadata": {
  "kernelspec": {
   "display_name": "Python 3",
   "language": "python",
   "name": "python3"
  },
  "language_info": {
   "codemirror_mode": {
    "name": "ipython",
    "version": 3
   },
   "file_extension": ".py",
   "mimetype": "text/x-python",
   "name": "python",
   "nbconvert_exporter": "python",
   "pygments_lexer": "ipython3",
   "version": "3.6.1"
  }
 },
 "nbformat": 4,
 "nbformat_minor": 2
}
