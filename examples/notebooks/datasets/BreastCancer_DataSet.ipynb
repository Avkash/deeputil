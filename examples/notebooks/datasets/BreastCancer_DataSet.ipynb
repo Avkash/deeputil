{
 "cells": [
  {
   "cell_type": "code",
   "execution_count": 1,
   "metadata": {},
   "outputs": [
    {
     "name": "stderr",
     "output_type": "stream",
     "text": [
      "Using TensorFlow backend.\n"
     ]
    }
   ],
   "source": [
    "from deeputil.datasets import BreastCancer"
   ]
  },
  {
   "cell_type": "code",
   "execution_count": 2,
   "metadata": {},
   "outputs": [
    {
     "name": "stdout",
     "output_type": "stream",
     "text": [
      "Downloaded 24 KB dataset with 699 and 11 columns..........\n"
     ]
    }
   ],
   "source": [
    "df = BreastCancer.load_data_as_pandas_df()"
   ]
  },
  {
   "cell_type": "code",
   "execution_count": 3,
   "metadata": {},
   "outputs": [
    {
     "data": {
      "text/plain": [
       "(699, 11)"
      ]
     },
     "execution_count": 3,
     "metadata": {},
     "output_type": "execute_result"
    }
   ],
   "source": [
    "df.shape"
   ]
  },
  {
   "cell_type": "code",
   "execution_count": 4,
   "metadata": {},
   "outputs": [
    {
     "data": {
      "text/plain": [
       "<bound method NDFrame.describe of      Sample code number  Clump Thickness  Uniformity of Cell Size  \\\n",
       "0               1000025                5                        1   \n",
       "1               1002945                5                        4   \n",
       "2               1015425                3                        1   \n",
       "3               1016277                6                        8   \n",
       "4               1017023                4                        1   \n",
       "5               1017122                8                       10   \n",
       "6               1018099                1                        1   \n",
       "7               1018561                2                        1   \n",
       "8               1033078                2                        1   \n",
       "9               1033078                4                        2   \n",
       "10              1035283                1                        1   \n",
       "11              1036172                2                        1   \n",
       "12              1041801                5                        3   \n",
       "13              1043999                1                        1   \n",
       "14              1044572                8                        7   \n",
       "15              1047630                7                        4   \n",
       "16              1048672                4                        1   \n",
       "17              1049815                4                        1   \n",
       "18              1050670               10                        7   \n",
       "19              1050718                6                        1   \n",
       "20              1054590                7                        3   \n",
       "21              1054593               10                        5   \n",
       "22              1056784                3                        1   \n",
       "23              1057013                8                        4   \n",
       "24              1059552                1                        1   \n",
       "25              1065726                5                        2   \n",
       "26              1066373                3                        2   \n",
       "27              1066979                5                        1   \n",
       "28              1067444                2                        1   \n",
       "29              1070935                1                        1   \n",
       "..                  ...              ...                      ...   \n",
       "669             1350423                5                       10   \n",
       "670             1352848                3                       10   \n",
       "671             1353092                3                        2   \n",
       "672             1354840                2                        1   \n",
       "673             1354840                5                        3   \n",
       "674             1355260                1                        1   \n",
       "675             1365075                4                        1   \n",
       "676             1365328                1                        1   \n",
       "677             1368267                5                        1   \n",
       "678             1368273                1                        1   \n",
       "679             1368882                2                        1   \n",
       "680             1369821               10                       10   \n",
       "681             1371026                5                       10   \n",
       "682             1371920                5                        1   \n",
       "683              466906                1                        1   \n",
       "684              466906                1                        1   \n",
       "685              534555                1                        1   \n",
       "686              536708                1                        1   \n",
       "687              566346                3                        1   \n",
       "688              603148                4                        1   \n",
       "689              654546                1                        1   \n",
       "690              654546                1                        1   \n",
       "691              695091                5                       10   \n",
       "692              714039                3                        1   \n",
       "693              763235                3                        1   \n",
       "694              776715                3                        1   \n",
       "695              841769                2                        1   \n",
       "696              888820                5                       10   \n",
       "697              897471                4                        8   \n",
       "698              897471                4                        8   \n",
       "\n",
       "     Uniformity of Cell Shape  Marginal Adhesion  Single Epithelial Cell Size  \\\n",
       "0                           1                  1                            2   \n",
       "1                           4                  5                            7   \n",
       "2                           1                  1                            2   \n",
       "3                           8                  1                            3   \n",
       "4                           1                  3                            2   \n",
       "5                          10                  8                            7   \n",
       "6                           1                  1                            2   \n",
       "7                           2                  1                            2   \n",
       "8                           1                  1                            2   \n",
       "9                           1                  1                            2   \n",
       "10                          1                  1                            1   \n",
       "11                          1                  1                            2   \n",
       "12                          3                  3                            2   \n",
       "13                          1                  1                            2   \n",
       "14                          5                 10                            7   \n",
       "15                          6                  4                            6   \n",
       "16                          1                  1                            2   \n",
       "17                          1                  1                            2   \n",
       "18                          7                  6                            4   \n",
       "19                          1                  1                            2   \n",
       "20                          2                 10                            5   \n",
       "21                          5                  3                            6   \n",
       "22                          1                  1                            2   \n",
       "23                          5                  1                            2   \n",
       "24                          1                  1                            2   \n",
       "25                          3                  4                            2   \n",
       "26                          1                  1                            1   \n",
       "27                          1                  1                            2   \n",
       "28                          1                  1                            2   \n",
       "29                          3                  1                            2   \n",
       "..                        ...                ...                          ...   \n",
       "669                        10                  8                            5   \n",
       "670                         7                  8                            5   \n",
       "671                         1                  2                            2   \n",
       "672                         1                  1                            2   \n",
       "673                         2                  1                            3   \n",
       "674                         1                  1                            2   \n",
       "675                         4                  1                            2   \n",
       "676                         2                  1                            2   \n",
       "677                         1                  1                            2   \n",
       "678                         1                  1                            2   \n",
       "679                         1                  1                            2   \n",
       "680                        10                 10                            5   \n",
       "681                        10                 10                            4   \n",
       "682                         1                  1                            2   \n",
       "683                         1                  1                            2   \n",
       "684                         1                  1                            2   \n",
       "685                         1                  1                            2   \n",
       "686                         1                  1                            2   \n",
       "687                         1                  1                            2   \n",
       "688                         1                  1                            2   \n",
       "689                         1                  1                            2   \n",
       "690                         1                  3                            2   \n",
       "691                        10                  5                            4   \n",
       "692                         1                  1                            2   \n",
       "693                         1                  1                            2   \n",
       "694                         1                  1                            3   \n",
       "695                         1                  1                            2   \n",
       "696                        10                  3                            7   \n",
       "697                         6                  4                            3   \n",
       "698                         8                  5                            4   \n",
       "\n",
       "    Bare Nuclei  Bland Chromatin  Normal Nucleoli  Mitoses      Class  \n",
       "0             1                3                1        1     benign  \n",
       "1            10                3                2        1     benign  \n",
       "2             2                3                1        1     benign  \n",
       "3             4                3                7        1     benign  \n",
       "4             1                3                1        1     benign  \n",
       "5            10                9                7        1  malignant  \n",
       "6            10                3                1        1     benign  \n",
       "7             1                3                1        1     benign  \n",
       "8             1                1                1        5     benign  \n",
       "9             1                2                1        1     benign  \n",
       "10            1                3                1        1     benign  \n",
       "11            1                2                1        1     benign  \n",
       "12            3                4                4        1  malignant  \n",
       "13            3                3                1        1     benign  \n",
       "14            9                5                5        4  malignant  \n",
       "15            1                4                3        1  malignant  \n",
       "16            1                2                1        1     benign  \n",
       "17            1                3                1        1     benign  \n",
       "18           10                4                1        2  malignant  \n",
       "19            1                3                1        1     benign  \n",
       "20           10                5                4        4  malignant  \n",
       "21            7                7               10        1  malignant  \n",
       "22            1                2                1        1     benign  \n",
       "23            ?                7                3        1  malignant  \n",
       "24            1                3                1        1     benign  \n",
       "25            7                3                6        1  malignant  \n",
       "26            1                2                1        1     benign  \n",
       "27            1                2                1        1     benign  \n",
       "28            1                2                1        1     benign  \n",
       "29            1                1                1        1     benign  \n",
       "..          ...              ...              ...      ...        ...  \n",
       "669           5                7               10        1  malignant  \n",
       "670           8                7                4        1  malignant  \n",
       "671           1                3                1        1     benign  \n",
       "672           1                3                1        1     benign  \n",
       "673           1                1                1        1     benign  \n",
       "674           1                2                1        1     benign  \n",
       "675           1                1                1        1     benign  \n",
       "676           1                2                1        1     benign  \n",
       "677           1                1                1        1     benign  \n",
       "678           1                1                1        1     benign  \n",
       "679           1                1                1        1     benign  \n",
       "680          10               10               10        7  malignant  \n",
       "681          10                5                6        3  malignant  \n",
       "682           1                3                2        1     benign  \n",
       "683           1                1                1        1     benign  \n",
       "684           1                1                1        1     benign  \n",
       "685           1                1                1        1     benign  \n",
       "686           1                1                1        1     benign  \n",
       "687           1                2                3        1     benign  \n",
       "688           1                1                1        1     benign  \n",
       "689           1                1                1        8     benign  \n",
       "690           1                1                1        1     benign  \n",
       "691           5                4                4        1  malignant  \n",
       "692           1                1                1        1     benign  \n",
       "693           1                2                1        2     benign  \n",
       "694           2                1                1        1     benign  \n",
       "695           1                1                1        1     benign  \n",
       "696           3                8               10        2  malignant  \n",
       "697           4               10                6        1  malignant  \n",
       "698           5               10                4        1  malignant  \n",
       "\n",
       "[699 rows x 11 columns]>"
      ]
     },
     "execution_count": 4,
     "metadata": {},
     "output_type": "execute_result"
    }
   ],
   "source": [
    "df.describe"
   ]
  },
  {
   "cell_type": "code",
   "execution_count": null,
   "metadata": {
    "collapsed": true
   },
   "outputs": [],
   "source": []
  }
 ],
 "metadata": {
  "kernelspec": {
   "display_name": "Python 3",
   "language": "python",
   "name": "python3"
  },
  "language_info": {
   "codemirror_mode": {
    "name": "ipython",
    "version": 3
   },
   "file_extension": ".py",
   "mimetype": "text/x-python",
   "name": "python",
   "nbconvert_exporter": "python",
   "pygments_lexer": "ipython3",
   "version": "3.6.1"
  }
 },
 "nbformat": 4,
 "nbformat_minor": 2
}
