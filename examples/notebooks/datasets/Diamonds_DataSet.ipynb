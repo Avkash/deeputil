{
 "cells": [
  {
   "cell_type": "code",
   "execution_count": 1,
   "metadata": {},
   "outputs": [
    {
     "name": "stderr",
     "output_type": "stream",
     "text": [
      "Using TensorFlow backend.\n"
     ]
    }
   ],
   "source": [
    "from deeputil.datasets import Diamonds"
   ]
  },
  {
   "cell_type": "code",
   "execution_count": 2,
   "metadata": {},
   "outputs": [
    {
     "name": "stdout",
     "output_type": "stream",
     "text": [
      "Downloaded 2.8 MB dataset with 53940 and 10 columns..........\n"
     ]
    }
   ],
   "source": [
    "df = Diamonds.load_data_as_pandas_df()"
   ]
  },
  {
   "cell_type": "code",
   "execution_count": 3,
   "metadata": {},
   "outputs": [
    {
     "data": {
      "text/plain": [
       "(53940, 10)"
      ]
     },
     "execution_count": 3,
     "metadata": {},
     "output_type": "execute_result"
    }
   ],
   "source": [
    "df.shape"
   ]
  },
  {
   "cell_type": "code",
   "execution_count": 4,
   "metadata": {},
   "outputs": [
    {
     "data": {
      "text/plain": [
       "<bound method NDFrame.describe of       carat        cut color clarity depth table  price     x     y     z\n",
       "0      0,23      Ideal     E     SI2  61,5    55    326  3,95  3,98  2,43\n",
       "1      0,21    Premium     E     SI1  59,8    61    326  3,89  3,84  2,31\n",
       "2      0,23       Good     E     VS1  56,9    65    327  4,05  4,07  2,31\n",
       "3      0,29    Premium     I     VS2  62,4    58    334   4,2  4,23  2,63\n",
       "4      0,31       Good     J     SI2  63,3    58    335  4,34  4,35  2,75\n",
       "5      0,24  Very Good     J    VVS2  62,8    57    336  3,94  3,96  2,48\n",
       "6      0,24  Very Good     I    VVS1  62,3    57    336  3,95  3,98  2,47\n",
       "7      0,26  Very Good     H     SI1  61,9    55    337  4,07  4,11  2,53\n",
       "8      0,22       Fair     E     VS2  65,1    61    337  3,87  3,78  2,49\n",
       "9      0,23  Very Good     H     VS1  59,4    61    338     4  4,05  2,39\n",
       "10      0,3       Good     J     SI1    64    55    339  4,25  4,28  2,73\n",
       "11     0,23      Ideal     J     VS1  62,8    56    340  3,93   3,9  2,46\n",
       "12     0,22    Premium     F     SI1  60,4    61    342  3,88  3,84  2,33\n",
       "13     0,31      Ideal     J     SI2  62,2    54    344  4,35  4,37  2,71\n",
       "14      0,2    Premium     E     SI2  60,2    62    345  3,79  3,75  2,27\n",
       "15     0,32    Premium     E      I1  60,9    58    345  4,38  4,42  2,68\n",
       "16      0,3      Ideal     I     SI2    62    54    348  4,31  4,34  2,68\n",
       "17      0,3       Good     J     SI1  63,4    54    351  4,23  4,29   2,7\n",
       "18      0,3       Good     J     SI1  63,8    56    351  4,23  4,26  2,71\n",
       "19      0,3  Very Good     J     SI1  62,7    59    351  4,21  4,27  2,66\n",
       "20      0,3       Good     I     SI2  63,3    56    351  4,26   4,3  2,71\n",
       "21     0,23  Very Good     E     VS2  63,8    55    352  3,85  3,92  2,48\n",
       "22     0,23  Very Good     H     VS1    61    57    353  3,94  3,96  2,41\n",
       "23     0,31  Very Good     J     SI1  59,4    62    353  4,39  4,43  2,62\n",
       "24     0,31  Very Good     J     SI1  58,1    62    353  4,44  4,47  2,59\n",
       "25     0,23  Very Good     G    VVS2  60,4    58    354  3,97  4,01  2,41\n",
       "26     0,24    Premium     I     VS1  62,5    57    355  3,97  3,94  2,47\n",
       "27      0,3  Very Good     J     VS2  62,2    57    357  4,28   4,3  2,67\n",
       "28     0,23  Very Good     D     VS2  60,5    61    357  3,96  3,97   2,4\n",
       "29     0,23  Very Good     F     VS1  60,9    57    357  3,96  3,99  2,42\n",
       "...     ...        ...   ...     ...   ...   ...    ...   ...   ...   ...\n",
       "53910   0,7    Premium     E     SI1  60,5    58   2753  5,74  5,77  3,48\n",
       "53911  0,57    Premium     E      IF  59,8    60   2753  5,43  5,38  3,23\n",
       "53912  0,61    Premium     F    VVS1  61,8    59   2753  5,48   5,4  3,36\n",
       "53913   0,8       Good     G     VS2  64,2    58   2753  5,84  5,81  3,74\n",
       "53914  0,84       Good     I     VS1  63,7    59   2753  5,94   5,9  3,77\n",
       "53915  0,77      Ideal     E     SI2  62,1    56   2753  5,84  5,86  3,63\n",
       "53916  0,74       Good     D     SI1  63,1    59   2753  5,71  5,74  3,61\n",
       "53917   0,9  Very Good     J     SI1  63,2    60   2753  6,12  6,09  3,86\n",
       "53918  0,76    Premium     I     VS1  59,3    62   2753  5,93  5,85  3,49\n",
       "53919  0,76      Ideal     I    VVS1  62,2    55   2753  5,89  5,87  3,66\n",
       "53920   0,7  Very Good     E     VS2  62,4    60   2755  5,57  5,61  3,49\n",
       "53921   0,7  Very Good     E     VS2  62,8    60   2755  5,59  5,65  3,53\n",
       "53922   0,7  Very Good     D     VS1  63,1    59   2755  5,67  5,58  3,55\n",
       "53923  0,73      Ideal     I     VS2  61,3    56   2756   5,8  5,84  3,57\n",
       "53924  0,73      Ideal     I     VS2  61,6    55   2756  5,82  5,84  3,59\n",
       "53925  0,79      Ideal     I     SI1  61,6    56   2756  5,95  5,97  3,67\n",
       "53926  0,71      Ideal     E     SI1  61,9    56   2756  5,71  5,73  3,54\n",
       "53927  0,79       Good     F     SI1  58,1    59   2756  6,06  6,13  3,54\n",
       "53928  0,79    Premium     E     SI2  61,4    58   2756  6,03  5,96  3,68\n",
       "53929  0,71      Ideal     G     VS1  61,4    56   2756  5,76  5,73  3,53\n",
       "53930  0,71    Premium     E     SI1  60,5    55   2756  5,79  5,74  3,49\n",
       "53931  0,71    Premium     F     SI1  59,8    62   2756  5,74  5,73  3,43\n",
       "53932   0,7  Very Good     E     VS2  60,5    59   2757  5,71  5,76  3,47\n",
       "53933   0,7  Very Good     E     VS2  61,2    59   2757  5,69  5,72  3,49\n",
       "53934  0,72    Premium     D     SI1  62,7    59   2757  5,69  5,73  3,58\n",
       "53935  0,72      Ideal     D     SI1  60,8    57   2757  5,75  5,76   3,5\n",
       "53936  0,72       Good     D     SI1  63,1    55   2757  5,69  5,75  3,61\n",
       "53937   0,7  Very Good     D     SI1  62,8    60   2757  5,66  5,68  3,56\n",
       "53938  0,86    Premium     H     SI2    61    58   2757  6,15  6,12  3,74\n",
       "53939  0,75      Ideal     D     SI2  62,2    55   2757  5,83  5,87  3,64\n",
       "\n",
       "[53940 rows x 10 columns]>"
      ]
     },
     "execution_count": 4,
     "metadata": {},
     "output_type": "execute_result"
    }
   ],
   "source": [
    "df.describe"
   ]
  },
  {
   "cell_type": "code",
   "execution_count": null,
   "metadata": {
    "collapsed": true
   },
   "outputs": [],
   "source": []
  }
 ],
 "metadata": {
  "kernelspec": {
   "display_name": "Python 3",
   "language": "python",
   "name": "python3"
  },
  "language_info": {
   "codemirror_mode": {
    "name": "ipython",
    "version": 3
   },
   "file_extension": ".py",
   "mimetype": "text/x-python",
   "name": "python",
   "nbconvert_exporter": "python",
   "pygments_lexer": "ipython3",
   "version": "3.6.1"
  }
 },
 "nbformat": 4,
 "nbformat_minor": 2
}
