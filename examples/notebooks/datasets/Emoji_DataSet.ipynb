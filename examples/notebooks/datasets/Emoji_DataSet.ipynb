{
 "cells": [
  {
   "cell_type": "code",
   "execution_count": 1,
   "metadata": {},
   "outputs": [
    {
     "name": "stderr",
     "output_type": "stream",
     "text": [
      "Using TensorFlow backend.\n"
     ]
    }
   ],
   "source": [
    "from deeputil.datasets import Emoji"
   ]
  },
  {
   "cell_type": "code",
   "execution_count": 5,
   "metadata": {},
   "outputs": [
    {
     "name": "stdout",
     "output_type": "stream",
     "text": [
      "Downloaded 91 KB dataset with 2389 and 2 columns..........\n"
     ]
    }
   ],
   "source": [
    "df1 = Emoji.load_emoji_base_data_as_pandas_df(show_info=True)"
   ]
  },
  {
   "cell_type": "code",
   "execution_count": 6,
   "metadata": {},
   "outputs": [
    {
     "data": {
      "text/plain": [
       "(2389, 2)"
      ]
     },
     "execution_count": 6,
     "metadata": {},
     "output_type": "execute_result"
    }
   ],
   "source": [
    "df1.shape"
   ]
  },
  {
   "cell_type": "code",
   "execution_count": 7,
   "metadata": {},
   "outputs": [
    {
     "data": {
      "text/plain": [
       "<bound method NDFrame.describe of                  Code                                         Name\n",
       "0             U+1F600                                grinning face\n",
       "1             U+1F601              grinning face with smiling eyes\n",
       "2             U+1F602                       face with tears of joy\n",
       "3             U+1F923                rolling on the floor laughing\n",
       "4             U+1F603                 smiling face with open mouth\n",
       "5             U+1F604  smiling face with open mouth & smiling eyes\n",
       "6             U+1F605    smiling face with open mouth & cold sweat\n",
       "7             U+1F606   smiling face with open mouth & closed eyes\n",
       "8             U+1F609                                 winking face\n",
       "9             U+1F60A               smiling face with smiling eyes\n",
       "10            U+1F60B                face savouring delicious food\n",
       "11            U+1F60E                 smiling face with sunglasses\n",
       "12            U+1F60D                 smiling face with heart-eyes\n",
       "13            U+1F618                          face blowing a kiss\n",
       "14            U+1F617                                 kissing face\n",
       "15            U+1F619               kissing face with smiling eyes\n",
       "16            U+1F61A                kissing face with closed eyes\n",
       "17             U+263A                                 smiling face\n",
       "18            U+1F642                        slightly smiling face\n",
       "19            U+1F917                                 hugging face\n",
       "20            U+1F914                                thinking face\n",
       "21            U+1F610                                 neutral face\n",
       "22            U+1F611                          expressionless face\n",
       "23            U+1F636                           face without mouth\n",
       "24            U+1F644                       face with rolling eyes\n",
       "25            U+1F60F                                smirking face\n",
       "26            U+1F623                             persevering face\n",
       "27            U+1F625               disappointed but relieved face\n",
       "28            U+1F62E                         face with open mouth\n",
       "29            U+1F910                            zipper-mouth face\n",
       "...               ...                                          ...\n",
       "2359  U+1F1F9 U+1F1F2                                 Turkmenistan\n",
       "2360  U+1F1F9 U+1F1F3                                      Tunisia\n",
       "2361  U+1F1F9 U+1F1F4                                        Tonga\n",
       "2362  U+1F1F9 U+1F1F7                                       Turkey\n",
       "2363  U+1F1F9 U+1F1F9                            Trinidad & Tobago\n",
       "2364  U+1F1F9 U+1F1FB                                       Tuvalu\n",
       "2365  U+1F1F9 U+1F1FC                                       Taiwan\n",
       "2366  U+1F1F9 U+1F1FF                                     Tanzania\n",
       "2367  U+1F1FA U+1F1E6                                      Ukraine\n",
       "2368  U+1F1FA U+1F1EC                                       Uganda\n",
       "2369  U+1F1FA U+1F1F2                        U.S. Outlying Islands\n",
       "2370  U+1F1FA U+1F1F3                               United Nations\n",
       "2371  U+1F1FA U+1F1F8                                United States\n",
       "2372  U+1F1FA U+1F1FE                                      Uruguay\n",
       "2373  U+1F1FA U+1F1FF                                   Uzbekistan\n",
       "2374  U+1F1FB U+1F1E6                                 Vatican City\n",
       "2375  U+1F1FB U+1F1E8                     St. Vincent & Grenadines\n",
       "2376  U+1F1FB U+1F1EA                                    Venezuela\n",
       "2377  U+1F1FB U+1F1EC                       British Virgin Islands\n",
       "2378  U+1F1FB U+1F1EE                          U.S. Virgin Islands\n",
       "2379  U+1F1FB U+1F1F3                                      Vietnam\n",
       "2380  U+1F1FB U+1F1FA                                      Vanuatu\n",
       "2381  U+1F1FC U+1F1EB                              Wallis & Futuna\n",
       "2382  U+1F1FC U+1F1F8                                        Samoa\n",
       "2383  U+1F1FD U+1F1F0                                       Kosovo\n",
       "2384  U+1F1FE U+1F1EA                                        Yemen\n",
       "2385  U+1F1FE U+1F1F9                                      Mayotte\n",
       "2386  U+1F1FF U+1F1E6                                 South Africa\n",
       "2387  U+1F1FF U+1F1F2                                       Zambia\n",
       "2388  U+1F1FF U+1F1FC                                     Zimbabwe\n",
       "\n",
       "[2389 rows x 2 columns]>"
      ]
     },
     "execution_count": 7,
     "metadata": {},
     "output_type": "execute_result"
    }
   ],
   "source": [
    "df1.describe"
   ]
  },
  {
   "cell_type": "code",
   "execution_count": 8,
   "metadata": {},
   "outputs": [],
   "source": [
    "df2 = Emoji.load_emoji_extended_data_as_pandas_df(show_info=False)"
   ]
  },
  {
   "cell_type": "code",
   "execution_count": 9,
   "metadata": {},
   "outputs": [
    {
     "data": {
      "text/plain": [
       "(2389, 4)"
      ]
     },
     "execution_count": 9,
     "metadata": {},
     "output_type": "execute_result"
    }
   ],
   "source": [
    "df2.shape"
   ]
  },
  {
   "cell_type": "code",
   "execution_count": 10,
   "metadata": {},
   "outputs": [
    {
     "data": {
      "text/plain": [
       "<bound method NDFrame.describe of                  Code                                         Name  \\\n",
       "0             U+1F600                                grinning face   \n",
       "1             U+1F601              grinning face with smiling eyes   \n",
       "2             U+1F602                       face with tears of joy   \n",
       "3             U+1F923                rolling on the floor laughing   \n",
       "4             U+1F603                 smiling face with open mouth   \n",
       "5             U+1F604  smiling face with open mouth & smiling eyes   \n",
       "6             U+1F605    smiling face with open mouth & cold sweat   \n",
       "7             U+1F606   smiling face with open mouth & closed eyes   \n",
       "8             U+1F609                                 winking face   \n",
       "9             U+1F60A               smiling face with smiling eyes   \n",
       "10            U+1F60B                face savouring delicious food   \n",
       "11            U+1F60E                 smiling face with sunglasses   \n",
       "12            U+1F60D                 smiling face with heart-eyes   \n",
       "13            U+1F618                          face blowing a kiss   \n",
       "14            U+1F617                                 kissing face   \n",
       "15            U+1F619               kissing face with smiling eyes   \n",
       "16            U+1F61A                kissing face with closed eyes   \n",
       "17             U+263A                                 smiling face   \n",
       "18            U+1F642                        slightly smiling face   \n",
       "19            U+1F917                                 hugging face   \n",
       "20            U+1F914                                thinking face   \n",
       "21            U+1F610                                 neutral face   \n",
       "22            U+1F611                          expressionless face   \n",
       "23            U+1F636                           face without mouth   \n",
       "24            U+1F644                       face with rolling eyes   \n",
       "25            U+1F60F                                smirking face   \n",
       "26            U+1F623                             persevering face   \n",
       "27            U+1F625               disappointed but relieved face   \n",
       "28            U+1F62E                         face with open mouth   \n",
       "29            U+1F910                            zipper-mouth face   \n",
       "...               ...                                          ...   \n",
       "2359  U+1F1F9 U+1F1F2                                 Turkmenistan   \n",
       "2360  U+1F1F9 U+1F1F3                                      Tunisia   \n",
       "2361  U+1F1F9 U+1F1F4                                        Tonga   \n",
       "2362  U+1F1F9 U+1F1F7                                       Turkey   \n",
       "2363  U+1F1F9 U+1F1F9                            Trinidad & Tobago   \n",
       "2364  U+1F1F9 U+1F1FB                                       Tuvalu   \n",
       "2365  U+1F1F9 U+1F1FC                                       Taiwan   \n",
       "2366  U+1F1F9 U+1F1FF                                     Tanzania   \n",
       "2367  U+1F1FA U+1F1E6                                      Ukraine   \n",
       "2368  U+1F1FA U+1F1EC                                       Uganda   \n",
       "2369  U+1F1FA U+1F1F2                        U.S. Outlying Islands   \n",
       "2370  U+1F1FA U+1F1F3                               United Nations   \n",
       "2371  U+1F1FA U+1F1F8                                United States   \n",
       "2372  U+1F1FA U+1F1FE                                      Uruguay   \n",
       "2373  U+1F1FA U+1F1FF                                   Uzbekistan   \n",
       "2374  U+1F1FB U+1F1E6                                 Vatican City   \n",
       "2375  U+1F1FB U+1F1E8                     St. Vincent & Grenadines   \n",
       "2376  U+1F1FB U+1F1EA                                    Venezuela   \n",
       "2377  U+1F1FB U+1F1EC                       British Virgin Islands   \n",
       "2378  U+1F1FB U+1F1EE                          U.S. Virgin Islands   \n",
       "2379  U+1F1FB U+1F1F3                                      Vietnam   \n",
       "2380  U+1F1FB U+1F1FA                                      Vanuatu   \n",
       "2381  U+1F1FC U+1F1EB                              Wallis & Futuna   \n",
       "2382  U+1F1FC U+1F1F8                                        Samoa   \n",
       "2383  U+1F1FD U+1F1F0                                       Kosovo   \n",
       "2384  U+1F1FE U+1F1EA                                        Yemen   \n",
       "2385  U+1F1FE U+1F1F9                                      Mayotte   \n",
       "2386  U+1F1FF U+1F1E6                                 South Africa   \n",
       "2387  U+1F1FF U+1F1F2                                       Zambia   \n",
       "2388  U+1F1FF U+1F1FC                                     Zimbabwe   \n",
       "\n",
       "                 dispCode          updatedCode  \n",
       "0               U0001F600            U0001F600  \n",
       "1               U0001F601            U0001F601  \n",
       "2               U0001F602            U0001F602  \n",
       "3               U0001F923            U0001F923  \n",
       "4               U0001F603            U0001F603  \n",
       "5               U0001F604            U0001F604  \n",
       "6               U0001F605            U0001F605  \n",
       "7               U0001F606            U0001F606  \n",
       "8               U0001F609            U0001F609  \n",
       "9               U0001F60A            U0001F60A  \n",
       "10              U0001F60B            U0001F60B  \n",
       "11              U0001F60E            U0001F60E  \n",
       "12              U0001F60D            U0001F60D  \n",
       "13              U0001F618            U0001F618  \n",
       "14              U0001F617            U0001F617  \n",
       "15              U0001F619            U0001F619  \n",
       "16              U0001F61A            U0001F61A  \n",
       "17               U000263A            U0000263A  \n",
       "18              U0001F642            U0001F642  \n",
       "19              U0001F917            U0001F917  \n",
       "20              U0001F914            U0001F914  \n",
       "21              U0001F610            U0001F610  \n",
       "22              U0001F611            U0001F611  \n",
       "23              U0001F636            U0001F636  \n",
       "24              U0001F644            U0001F644  \n",
       "25              U0001F60F            U0001F60F  \n",
       "26              U0001F623            U0001F623  \n",
       "27              U0001F625            U0001F625  \n",
       "28              U0001F62E            U0001F62E  \n",
       "29              U0001F910            U0001F910  \n",
       "...                   ...                  ...  \n",
       "2359  U0001F1F9 U0001F1F2  U0001F1F9 U0001F1F2  \n",
       "2360  U0001F1F9 U0001F1F3  U0001F1F9 U0001F1F3  \n",
       "2361  U0001F1F9 U0001F1F4  U0001F1F9 U0001F1F4  \n",
       "2362  U0001F1F9 U0001F1F7  U0001F1F9 U0001F1F7  \n",
       "2363  U0001F1F9 U0001F1F9  U0001F1F9 U0001F1F9  \n",
       "2364  U0001F1F9 U0001F1FB  U0001F1F9 U0001F1FB  \n",
       "2365  U0001F1F9 U0001F1FC  U0001F1F9 U0001F1FC  \n",
       "2366  U0001F1F9 U0001F1FF  U0001F1F9 U0001F1FF  \n",
       "2367  U0001F1FA U0001F1E6  U0001F1FA U0001F1E6  \n",
       "2368  U0001F1FA U0001F1EC  U0001F1FA U0001F1EC  \n",
       "2369  U0001F1FA U0001F1F2  U0001F1FA U0001F1F2  \n",
       "2370  U0001F1FA U0001F1F3  U0001F1FA U0001F1F3  \n",
       "2371  U0001F1FA U0001F1F8  U0001F1FA U0001F1F8  \n",
       "2372  U0001F1FA U0001F1FE  U0001F1FA U0001F1FE  \n",
       "2373  U0001F1FA U0001F1FF  U0001F1FA U0001F1FF  \n",
       "2374  U0001F1FB U0001F1E6  U0001F1FB U0001F1E6  \n",
       "2375  U0001F1FB U0001F1E8  U0001F1FB U0001F1E8  \n",
       "2376  U0001F1FB U0001F1EA  U0001F1FB U0001F1EA  \n",
       "2377  U0001F1FB U0001F1EC  U0001F1FB U0001F1EC  \n",
       "2378  U0001F1FB U0001F1EE  U0001F1FB U0001F1EE  \n",
       "2379  U0001F1FB U0001F1F3  U0001F1FB U0001F1F3  \n",
       "2380  U0001F1FB U0001F1FA  U0001F1FB U0001F1FA  \n",
       "2381  U0001F1FC U0001F1EB  U0001F1FC U0001F1EB  \n",
       "2382  U0001F1FC U0001F1F8  U0001F1FC U0001F1F8  \n",
       "2383  U0001F1FD U0001F1F0  U0001F1FD U0001F1F0  \n",
       "2384  U0001F1FE U0001F1EA  U0001F1FE U0001F1EA  \n",
       "2385  U0001F1FE U0001F1F9  U0001F1FE U0001F1F9  \n",
       "2386  U0001F1FF U0001F1E6  U0001F1FF U0001F1E6  \n",
       "2387  U0001F1FF U0001F1F2  U0001F1FF U0001F1F2  \n",
       "2388  U0001F1FF U0001F1FC  U0001F1FF U0001F1FC  \n",
       "\n",
       "[2389 rows x 4 columns]>"
      ]
     },
     "execution_count": 10,
     "metadata": {},
     "output_type": "execute_result"
    }
   ],
   "source": [
    "df2.describe"
   ]
  },
  {
   "cell_type": "code",
   "execution_count": null,
   "metadata": {
    "collapsed": true
   },
   "outputs": [],
   "source": []
  }
 ],
 "metadata": {
  "kernelspec": {
   "display_name": "Python 3",
   "language": "python",
   "name": "python3"
  },
  "language_info": {
   "codemirror_mode": {
    "name": "ipython",
    "version": 3
   },
   "file_extension": ".py",
   "mimetype": "text/x-python",
   "name": "python",
   "nbconvert_exporter": "python",
   "pygments_lexer": "ipython3",
   "version": "3.6.1"
  }
 },
 "nbformat": 4,
 "nbformat_minor": 2
}
