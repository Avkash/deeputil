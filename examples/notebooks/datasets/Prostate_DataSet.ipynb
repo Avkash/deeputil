{
 "cells": [
  {
   "cell_type": "code",
   "execution_count": 1,
   "metadata": {},
   "outputs": [
    {
     "name": "stderr",
     "output_type": "stream",
     "text": [
      "Using TensorFlow backend.\n"
     ]
    }
   ],
   "source": [
    "from deeputil.datasets import Prostate"
   ]
  },
  {
   "cell_type": "code",
   "execution_count": 2,
   "metadata": {},
   "outputs": [
    {
     "name": "stdout",
     "output_type": "stream",
     "text": [
      "Downloaded 9.0 KB dataset with 380 rows and 9 columns..........\n"
     ]
    }
   ],
   "source": [
    "df = Prostate.load_data_as_pandas_df()"
   ]
  },
  {
   "cell_type": "code",
   "execution_count": 3,
   "metadata": {},
   "outputs": [
    {
     "data": {
      "text/plain": [
       "(380, 9)"
      ]
     },
     "execution_count": 3,
     "metadata": {},
     "output_type": "execute_result"
    }
   ],
   "source": [
    "df.shape"
   ]
  },
  {
   "cell_type": "code",
   "execution_count": 4,
   "metadata": {},
   "outputs": [
    {
     "data": {
      "text/plain": [
       "<bound method NDFrame.describe of       ID  CAPSULE  AGE  RACE  DPROS  DCAPS    PSA   VOL  GLEASON\n",
       "0      1        0   65     1      2      1    1.4   0.0        6\n",
       "1      2        0   72     1      3      2    6.7   0.0        7\n",
       "2      3        0   70     1      1      2    4.9   0.0        6\n",
       "3      4        0   76     2      2      1   51.2  20.0        7\n",
       "4      5        0   69     1      1      1   12.3  55.9        6\n",
       "5      6        1   71     1      3      2    3.3   0.0        8\n",
       "6      7        0   68     2      4      2   31.9   0.0        7\n",
       "7      8        0   61     2      4      2   66.7  27.2        7\n",
       "8      9        0   69     1      1      1    3.9  24.0        7\n",
       "9     10        0   68     2      1      2   13.0   0.0        6\n",
       "10    11        1   68     2      4      2    4.0   0.0        7\n",
       "11    12        1   72     1      2      2   21.2   0.0        7\n",
       "12    13        1   72     1      4      2   22.7   0.0        9\n",
       "13    14        1   65     1      4      2   39.0   0.0        7\n",
       "14    15        0   75     1      1      1    7.5   0.0        5\n",
       "15    16        0   73     1      2      1    2.6   0.0        5\n",
       "16    17        0   75     2      1      1    2.5   0.0        5\n",
       "17    18        0   70     1      2      1    2.6  11.8        5\n",
       "18    19        0   54     1      1      2    2.8   0.0        6\n",
       "19    20        1   67     2      3      2    8.6  25.5        7\n",
       "20    21        1   58     1      2      1    3.1   0.0        7\n",
       "21    22        1   70     0      4      1   67.1   0.0        7\n",
       "22    23        1   74     1      3      1   12.7  27.5        7\n",
       "23    24        0   73     1      1      1   12.3  47.3        7\n",
       "24    25        1   77     1      1      1   61.1  58.0        7\n",
       "25    26        0   77     1      1      1    8.8   0.0        5\n",
       "26    27        0   67     1      2      1    2.8  25.6        7\n",
       "27    28        0   73     1      3      1    2.9  14.1        5\n",
       "28    29        0   64     1      3      1    5.6  34.1        5\n",
       "29    30        0   58     1      4      1    5.6  22.8        6\n",
       "..   ...      ...  ...   ...    ...    ...    ...   ...      ...\n",
       "350  351        0   62     1      3      1    6.4   0.0        6\n",
       "351  352        0   75     1      4      1    1.0  13.3        6\n",
       "352  353        0   54     1      3      1   21.6  25.0        7\n",
       "353  354        1   59     1      2      2    7.9   0.0        7\n",
       "354  355        0   71     2      2      1   12.3  97.6        5\n",
       "355  356        0   66     1      2      1    4.4   0.0        6\n",
       "356  357        0   63     1      1      1    0.5   0.0        0\n",
       "357  358        0   66     1      1      1    5.4  21.3        6\n",
       "358  359        0   56     1      1      1    5.3   0.0        6\n",
       "359  360        0   73     1      1      1   10.4   0.0        7\n",
       "360  361        0   57     1      1      1    4.4  13.9        6\n",
       "361  362        0   65     1      1      1   10.8   0.0        6\n",
       "362  363        0   78     1      2      2   50.3  29.8        7\n",
       "363  364        1   67     1      4      1   15.2  32.0        7\n",
       "364  365        0   69     1      2      1    4.2   0.0        5\n",
       "365  366        0   55     1      1      1    0.8  21.0        6\n",
       "366  367        0   69     2      2      1   11.5   0.0        6\n",
       "367  368        0   74     1      2      1   48.0  47.0        7\n",
       "368  369        0   53     1      1      1   10.3  16.4        5\n",
       "369  370        0   79     1      1      1    4.4  23.7        6\n",
       "370  371        1   74     1      3      1    6.0   0.0        5\n",
       "371  372        0   73     1      4      1   10.0  27.4        6\n",
       "372  373        0   72     1      2      1   11.0  31.0        6\n",
       "373  374        1   65     1      4      1  139.7  29.9        9\n",
       "374  375        0   64     1      1      1   32.2  26.6        5\n",
       "375  376        0   58     2      3      1   18.2  28.6        7\n",
       "376  377        0   69     2      1      1    7.9  14.6        5\n",
       "377  378        1   76     1      2      1    5.5  53.9        8\n",
       "378  379        0   69     2      2      1    1.5   8.6        5\n",
       "379  380        0   69     1      2      1    1.9  20.7        6\n",
       "\n",
       "[380 rows x 9 columns]>"
      ]
     },
     "execution_count": 4,
     "metadata": {},
     "output_type": "execute_result"
    }
   ],
   "source": [
    "df.describe"
   ]
  },
  {
   "cell_type": "code",
   "execution_count": null,
   "metadata": {
    "collapsed": true
   },
   "outputs": [],
   "source": []
  }
 ],
 "metadata": {
  "kernelspec": {
   "display_name": "Python 3",
   "language": "python",
   "name": "python3"
  },
  "language_info": {
   "codemirror_mode": {
    "name": "ipython",
    "version": 3
   },
   "file_extension": ".py",
   "mimetype": "text/x-python",
   "name": "python",
   "nbconvert_exporter": "python",
   "pygments_lexer": "ipython3",
   "version": "3.6.1"
  }
 },
 "nbformat": 4,
 "nbformat_minor": 2
}
