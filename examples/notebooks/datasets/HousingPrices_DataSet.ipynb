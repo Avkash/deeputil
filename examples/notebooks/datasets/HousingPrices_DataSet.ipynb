{
 "cells": [
  {
   "cell_type": "code",
   "execution_count": 2,
   "metadata": {},
   "outputs": [
    {
     "name": "stderr",
     "output_type": "stream",
     "text": [
      "Using TensorFlow backend.\n"
     ]
    }
   ],
   "source": [
    "from deeputil.datasets import HousingPrices"
   ]
  },
  {
   "cell_type": "code",
   "execution_count": 3,
   "metadata": {},
   "outputs": [
    {
     "name": "stdout",
     "output_type": "stream",
     "text": [
      "Downloaded 450 KB dataset with 1460 and 81 columns..........\n"
     ]
    }
   ],
   "source": [
    "df = HousingPrices.load_data_as_pandas_df()"
   ]
  },
  {
   "cell_type": "code",
   "execution_count": 4,
   "metadata": {},
   "outputs": [
    {
     "data": {
      "text/plain": [
       "(1460, 81)"
      ]
     },
     "execution_count": 4,
     "metadata": {},
     "output_type": "execute_result"
    }
   ],
   "source": [
    "df.shape"
   ]
  },
  {
   "cell_type": "code",
   "execution_count": 5,
   "metadata": {},
   "outputs": [
    {
     "data": {
      "text/plain": [
       "<bound method NDFrame.describe of         Id  MSSubClass MSZoning  LotFrontage  LotArea Street Alley LotShape  \\\n",
       "0        1          60       RL         65.0     8450   Pave   NaN      Reg   \n",
       "1        2          20       RL         80.0     9600   Pave   NaN      Reg   \n",
       "2        3          60       RL         68.0    11250   Pave   NaN      IR1   \n",
       "3        4          70       RL         60.0     9550   Pave   NaN      IR1   \n",
       "4        5          60       RL         84.0    14260   Pave   NaN      IR1   \n",
       "5        6          50       RL         85.0    14115   Pave   NaN      IR1   \n",
       "6        7          20       RL         75.0    10084   Pave   NaN      Reg   \n",
       "7        8          60       RL          NaN    10382   Pave   NaN      IR1   \n",
       "8        9          50       RM         51.0     6120   Pave   NaN      Reg   \n",
       "9       10         190       RL         50.0     7420   Pave   NaN      Reg   \n",
       "10      11          20       RL         70.0    11200   Pave   NaN      Reg   \n",
       "11      12          60       RL         85.0    11924   Pave   NaN      IR1   \n",
       "12      13          20       RL          NaN    12968   Pave   NaN      IR2   \n",
       "13      14          20       RL         91.0    10652   Pave   NaN      IR1   \n",
       "14      15          20       RL          NaN    10920   Pave   NaN      IR1   \n",
       "15      16          45       RM         51.0     6120   Pave   NaN      Reg   \n",
       "16      17          20       RL          NaN    11241   Pave   NaN      IR1   \n",
       "17      18          90       RL         72.0    10791   Pave   NaN      Reg   \n",
       "18      19          20       RL         66.0    13695   Pave   NaN      Reg   \n",
       "19      20          20       RL         70.0     7560   Pave   NaN      Reg   \n",
       "20      21          60       RL        101.0    14215   Pave   NaN      IR1   \n",
       "21      22          45       RM         57.0     7449   Pave  Grvl      Reg   \n",
       "22      23          20       RL         75.0     9742   Pave   NaN      Reg   \n",
       "23      24         120       RM         44.0     4224   Pave   NaN      Reg   \n",
       "24      25          20       RL          NaN     8246   Pave   NaN      IR1   \n",
       "25      26          20       RL        110.0    14230   Pave   NaN      Reg   \n",
       "26      27          20       RL         60.0     7200   Pave   NaN      Reg   \n",
       "27      28          20       RL         98.0    11478   Pave   NaN      Reg   \n",
       "28      29          20       RL         47.0    16321   Pave   NaN      IR1   \n",
       "29      30          30       RM         60.0     6324   Pave   NaN      IR1   \n",
       "...    ...         ...      ...          ...      ...    ...   ...      ...   \n",
       "1430  1431          60       RL         60.0    21930   Pave   NaN      IR3   \n",
       "1431  1432         120       RL          NaN     4928   Pave   NaN      IR1   \n",
       "1432  1433          30       RL         60.0    10800   Pave  Grvl      Reg   \n",
       "1433  1434          60       RL         93.0    10261   Pave   NaN      IR1   \n",
       "1434  1435          20       RL         80.0    17400   Pave   NaN      Reg   \n",
       "1435  1436          20       RL         80.0     8400   Pave   NaN      Reg   \n",
       "1436  1437          20       RL         60.0     9000   Pave   NaN      Reg   \n",
       "1437  1438          20       RL         96.0    12444   Pave   NaN      Reg   \n",
       "1438  1439          20       RM         90.0     7407   Pave   NaN      Reg   \n",
       "1439  1440          60       RL         80.0    11584   Pave   NaN      Reg   \n",
       "1440  1441          70       RL         79.0    11526   Pave   NaN      IR1   \n",
       "1441  1442         120       RM          NaN     4426   Pave   NaN      Reg   \n",
       "1442  1443          60       FV         85.0    11003   Pave   NaN      Reg   \n",
       "1443  1444          30       RL          NaN     8854   Pave   NaN      Reg   \n",
       "1444  1445          20       RL         63.0     8500   Pave   NaN      Reg   \n",
       "1445  1446          85       RL         70.0     8400   Pave   NaN      Reg   \n",
       "1446  1447          20       RL          NaN    26142   Pave   NaN      IR1   \n",
       "1447  1448          60       RL         80.0    10000   Pave   NaN      Reg   \n",
       "1448  1449          50       RL         70.0    11767   Pave   NaN      Reg   \n",
       "1449  1450         180       RM         21.0     1533   Pave   NaN      Reg   \n",
       "1450  1451          90       RL         60.0     9000   Pave   NaN      Reg   \n",
       "1451  1452          20       RL         78.0     9262   Pave   NaN      Reg   \n",
       "1452  1453         180       RM         35.0     3675   Pave   NaN      Reg   \n",
       "1453  1454          20       RL         90.0    17217   Pave   NaN      Reg   \n",
       "1454  1455          20       FV         62.0     7500   Pave  Pave      Reg   \n",
       "1455  1456          60       RL         62.0     7917   Pave   NaN      Reg   \n",
       "1456  1457          20       RL         85.0    13175   Pave   NaN      Reg   \n",
       "1457  1458          70       RL         66.0     9042   Pave   NaN      Reg   \n",
       "1458  1459          20       RL         68.0     9717   Pave   NaN      Reg   \n",
       "1459  1460          20       RL         75.0     9937   Pave   NaN      Reg   \n",
       "\n",
       "     LandContour Utilities    ...     PoolArea PoolQC  Fence MiscFeature  \\\n",
       "0            Lvl    AllPub    ...            0    NaN    NaN         NaN   \n",
       "1            Lvl    AllPub    ...            0    NaN    NaN         NaN   \n",
       "2            Lvl    AllPub    ...            0    NaN    NaN         NaN   \n",
       "3            Lvl    AllPub    ...            0    NaN    NaN         NaN   \n",
       "4            Lvl    AllPub    ...            0    NaN    NaN         NaN   \n",
       "5            Lvl    AllPub    ...            0    NaN  MnPrv        Shed   \n",
       "6            Lvl    AllPub    ...            0    NaN    NaN         NaN   \n",
       "7            Lvl    AllPub    ...            0    NaN    NaN        Shed   \n",
       "8            Lvl    AllPub    ...            0    NaN    NaN         NaN   \n",
       "9            Lvl    AllPub    ...            0    NaN    NaN         NaN   \n",
       "10           Lvl    AllPub    ...            0    NaN    NaN         NaN   \n",
       "11           Lvl    AllPub    ...            0    NaN    NaN         NaN   \n",
       "12           Lvl    AllPub    ...            0    NaN    NaN         NaN   \n",
       "13           Lvl    AllPub    ...            0    NaN    NaN         NaN   \n",
       "14           Lvl    AllPub    ...            0    NaN   GdWo         NaN   \n",
       "15           Lvl    AllPub    ...            0    NaN  GdPrv         NaN   \n",
       "16           Lvl    AllPub    ...            0    NaN    NaN        Shed   \n",
       "17           Lvl    AllPub    ...            0    NaN    NaN        Shed   \n",
       "18           Lvl    AllPub    ...            0    NaN    NaN         NaN   \n",
       "19           Lvl    AllPub    ...            0    NaN  MnPrv         NaN   \n",
       "20           Lvl    AllPub    ...            0    NaN    NaN         NaN   \n",
       "21           Bnk    AllPub    ...            0    NaN  GdPrv         NaN   \n",
       "22           Lvl    AllPub    ...            0    NaN    NaN         NaN   \n",
       "23           Lvl    AllPub    ...            0    NaN    NaN         NaN   \n",
       "24           Lvl    AllPub    ...            0    NaN  MnPrv         NaN   \n",
       "25           Lvl    AllPub    ...            0    NaN    NaN         NaN   \n",
       "26           Lvl    AllPub    ...            0    NaN    NaN         NaN   \n",
       "27           Lvl    AllPub    ...            0    NaN    NaN         NaN   \n",
       "28           Lvl    AllPub    ...            0    NaN    NaN         NaN   \n",
       "29           Lvl    AllPub    ...            0    NaN    NaN         NaN   \n",
       "...          ...       ...    ...          ...    ...    ...         ...   \n",
       "1430         Lvl    AllPub    ...            0    NaN    NaN         NaN   \n",
       "1431         Lvl    AllPub    ...            0    NaN    NaN         NaN   \n",
       "1432         Lvl    AllPub    ...            0    NaN    NaN         NaN   \n",
       "1433         Lvl    AllPub    ...            0    NaN    NaN         NaN   \n",
       "1434         Low    AllPub    ...            0    NaN    NaN         NaN   \n",
       "1435         Lvl    AllPub    ...            0    NaN  GdPrv         NaN   \n",
       "1436         Lvl    AllPub    ...            0    NaN   GdWo         NaN   \n",
       "1437         Lvl    AllPub    ...            0    NaN    NaN         NaN   \n",
       "1438         Lvl    AllPub    ...            0    NaN  MnPrv         NaN   \n",
       "1439         Lvl    AllPub    ...            0    NaN    NaN         NaN   \n",
       "1440         Bnk    AllPub    ...            0    NaN    NaN         NaN   \n",
       "1441         Lvl    AllPub    ...            0    NaN    NaN         NaN   \n",
       "1442         Lvl    AllPub    ...            0    NaN    NaN         NaN   \n",
       "1443         Lvl    AllPub    ...            0    NaN    NaN         NaN   \n",
       "1444         Lvl    AllPub    ...            0    NaN    NaN         NaN   \n",
       "1445         Lvl    AllPub    ...            0    NaN    NaN         NaN   \n",
       "1446         Lvl    AllPub    ...            0    NaN    NaN         NaN   \n",
       "1447         Lvl    AllPub    ...            0    NaN    NaN         NaN   \n",
       "1448         Lvl    AllPub    ...            0    NaN   GdWo         NaN   \n",
       "1449         Lvl    AllPub    ...            0    NaN    NaN         NaN   \n",
       "1450         Lvl    AllPub    ...            0    NaN    NaN         NaN   \n",
       "1451         Lvl    AllPub    ...            0    NaN    NaN         NaN   \n",
       "1452         Lvl    AllPub    ...            0    NaN    NaN         NaN   \n",
       "1453         Lvl    AllPub    ...            0    NaN    NaN         NaN   \n",
       "1454         Lvl    AllPub    ...            0    NaN    NaN         NaN   \n",
       "1455         Lvl    AllPub    ...            0    NaN    NaN         NaN   \n",
       "1456         Lvl    AllPub    ...            0    NaN  MnPrv         NaN   \n",
       "1457         Lvl    AllPub    ...            0    NaN  GdPrv        Shed   \n",
       "1458         Lvl    AllPub    ...            0    NaN    NaN         NaN   \n",
       "1459         Lvl    AllPub    ...            0    NaN    NaN         NaN   \n",
       "\n",
       "     MiscVal MoSold YrSold  SaleType  SaleCondition  SalePrice  \n",
       "0          0      2   2008        WD         Normal     208500  \n",
       "1          0      5   2007        WD         Normal     181500  \n",
       "2          0      9   2008        WD         Normal     223500  \n",
       "3          0      2   2006        WD        Abnorml     140000  \n",
       "4          0     12   2008        WD         Normal     250000  \n",
       "5        700     10   2009        WD         Normal     143000  \n",
       "6          0      8   2007        WD         Normal     307000  \n",
       "7        350     11   2009        WD         Normal     200000  \n",
       "8          0      4   2008        WD        Abnorml     129900  \n",
       "9          0      1   2008        WD         Normal     118000  \n",
       "10         0      2   2008        WD         Normal     129500  \n",
       "11         0      7   2006       New        Partial     345000  \n",
       "12         0      9   2008        WD         Normal     144000  \n",
       "13         0      8   2007       New        Partial     279500  \n",
       "14         0      5   2008        WD         Normal     157000  \n",
       "15         0      7   2007        WD         Normal     132000  \n",
       "16       700      3   2010        WD         Normal     149000  \n",
       "17       500     10   2006        WD         Normal      90000  \n",
       "18         0      6   2008        WD         Normal     159000  \n",
       "19         0      5   2009       COD        Abnorml     139000  \n",
       "20         0     11   2006       New        Partial     325300  \n",
       "21         0      6   2007        WD         Normal     139400  \n",
       "22         0      9   2008        WD         Normal     230000  \n",
       "23         0      6   2007        WD         Normal     129900  \n",
       "24         0      5   2010        WD         Normal     154000  \n",
       "25         0      7   2009        WD         Normal     256300  \n",
       "26         0      5   2010        WD         Normal     134800  \n",
       "27         0      5   2010        WD         Normal     306000  \n",
       "28         0     12   2006        WD         Normal     207500  \n",
       "29         0      5   2008        WD         Normal      68500  \n",
       "...      ...    ...    ...       ...            ...        ...  \n",
       "1430       0      7   2006        WD         Normal     192140  \n",
       "1431       0     10   2009        WD         Normal     143750  \n",
       "1432       0      8   2007        WD         Normal      64500  \n",
       "1433       0      5   2008        WD         Normal     186500  \n",
       "1434       0      5   2006        WD         Normal     160000  \n",
       "1435       0      7   2008       COD        Abnorml     174000  \n",
       "1436       0      5   2007        WD         Normal     120500  \n",
       "1437       0     11   2008       New        Partial     394617  \n",
       "1438       0      4   2010        WD         Normal     149700  \n",
       "1439       0     11   2007        WD         Normal     197000  \n",
       "1440       0      9   2008        WD         Normal     191000  \n",
       "1441       0      5   2008        WD         Normal     149300  \n",
       "1442       0      4   2009        WD         Normal     310000  \n",
       "1443       0      5   2009        WD         Normal     121000  \n",
       "1444       0     11   2007        WD         Normal     179600  \n",
       "1445       0      5   2007        WD         Normal     129000  \n",
       "1446       0      4   2010        WD         Normal     157900  \n",
       "1447       0     12   2007        WD         Normal     240000  \n",
       "1448       0      5   2007        WD         Normal     112000  \n",
       "1449       0      8   2006        WD        Abnorml      92000  \n",
       "1450       0      9   2009        WD         Normal     136000  \n",
       "1451       0      5   2009       New        Partial     287090  \n",
       "1452       0      5   2006        WD         Normal     145000  \n",
       "1453       0      7   2006        WD        Abnorml      84500  \n",
       "1454       0     10   2009        WD         Normal     185000  \n",
       "1455       0      8   2007        WD         Normal     175000  \n",
       "1456       0      2   2010        WD         Normal     210000  \n",
       "1457    2500      5   2010        WD         Normal     266500  \n",
       "1458       0      4   2010        WD         Normal     142125  \n",
       "1459       0      6   2008        WD         Normal     147500  \n",
       "\n",
       "[1460 rows x 81 columns]>"
      ]
     },
     "execution_count": 5,
     "metadata": {},
     "output_type": "execute_result"
    }
   ],
   "source": [
    "df.describe"
   ]
  },
  {
   "cell_type": "code",
   "execution_count": null,
   "metadata": {
    "collapsed": true
   },
   "outputs": [],
   "source": []
  }
 ],
 "metadata": {
  "kernelspec": {
   "display_name": "Python 3",
   "language": "python",
   "name": "python3"
  },
  "language_info": {
   "codemirror_mode": {
    "name": "ipython",
    "version": 3
   },
   "file_extension": ".py",
   "mimetype": "text/x-python",
   "name": "python",
   "nbconvert_exporter": "python",
   "pygments_lexer": "ipython3",
   "version": "3.6.1"
  }
 },
 "nbformat": 4,
 "nbformat_minor": 2
}
