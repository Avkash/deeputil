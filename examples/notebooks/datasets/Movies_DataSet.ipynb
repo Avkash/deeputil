{
 "cells": [
  {
   "cell_type": "code",
   "execution_count": 1,
   "metadata": {},
   "outputs": [
    {
     "name": "stderr",
     "output_type": "stream",
     "text": [
      "Using TensorFlow backend.\n"
     ]
    }
   ],
   "source": [
    "from deeputil.datasets import Movies"
   ]
  },
  {
   "cell_type": "code",
   "execution_count": 2,
   "metadata": {},
   "outputs": [
    {
     "name": "stdout",
     "output_type": "stream",
     "text": [
      "Downloaded 453 KB dataset with 3883 and 18 columns..........\n"
     ]
    }
   ],
   "source": [
    "df = Movies.load_data_as_pandas_df()"
   ]
  },
  {
   "cell_type": "code",
   "execution_count": 3,
   "metadata": {},
   "outputs": [
    {
     "data": {
      "text/plain": [
       "(3883, 18)"
      ]
     },
     "execution_count": 3,
     "metadata": {},
     "output_type": "execute_result"
    }
   ],
   "source": [
    "df.shape"
   ]
  },
  {
   "cell_type": "code",
   "execution_count": 4,
   "metadata": {},
   "outputs": [
    {
     "data": {
      "text/plain": [
       "<bound method NDFrame.describe of                                               Name  Year  Animation  Comedy  \\\n",
       "0                                       Toy Story   1995       True    True   \n",
       "1                                         Jumanji   1995      False   False   \n",
       "2                                Grumpier Old Men   1995      False    True   \n",
       "3                               Waiting to Exhale   1995      False    True   \n",
       "4                     Father of the Bride Part II   1995      False    True   \n",
       "5                                            Heat   1995      False   False   \n",
       "6                                         Sabrina   1995      False    True   \n",
       "7                                    Tom and Huck   1995      False   False   \n",
       "8                                    Sudden Death   1995      False   False   \n",
       "9                                       GoldenEye   1995      False   False   \n",
       "10                        American President, The   1995      False    True   \n",
       "11                    Dracula: Dead and Loving It   1995      False    True   \n",
       "12                                          Balto   1995       True   False   \n",
       "13                                          Nixon   1995      False   False   \n",
       "14                               Cutthroat Island   1995      False   False   \n",
       "15                                         Casino   1995      False   False   \n",
       "16                          Sense and Sensibility   1995      False   False   \n",
       "17                                     Four Rooms   1995      False   False   \n",
       "18                 Ace Ventura: When Nature Calls   1995      False    True   \n",
       "19                                    Money Train   1995      False   False   \n",
       "20                                     Get Shorty   1995      False    True   \n",
       "21                                        Copycat   1995      False   False   \n",
       "22                                      Assassins   1995      False   False   \n",
       "23                                         Powder   1995      False   False   \n",
       "24                              Leaving Las Vegas   1995      False   False   \n",
       "25                                        Othello   1995      False   False   \n",
       "26                                   Now and Then   1995      False   False   \n",
       "27                                     Persuasion   1995      False   False   \n",
       "28                     City of Lost Children, The   1995      False   False   \n",
       "29    Shanghai Triad Yao a yao yao dao waipo qiao   1995      False   False   \n",
       "...                                            ...   ...        ...     ...   \n",
       "3853                            Return of the Fly   1959      False   False   \n",
       "3854                                 Pajama Party   1964      False    True   \n",
       "3855                       Stranger Than Paradise   1984      False    True   \n",
       "3856              Voyage to the Bottom of the Sea   1961      False   False   \n",
       "3857                             Fantastic Voyage   1966      False   False   \n",
       "3858        Abbott and Costello Meet Frankenstein   1948      False    True   \n",
       "3859                               Bank Dick, The   1940      False    True   \n",
       "3860          Creature From the Black Lagoon, The   1954      False   False   \n",
       "3861                      Giant Gila Monster, The   1959      False   False   \n",
       "3862                           Invisible Man, The   1933      False   False   \n",
       "3863                           Killer Shrews, The   1959      False   False   \n",
       "3864                                       Kronos   1957      False   False   \n",
       "3865                                       Kronos   1973      False   False   \n",
       "3866                    Phantom of the Opera, The   1943      False   False   \n",
       "3867                                      Runaway   1984      False   False   \n",
       "3868                  Slumber Party Massacre, The   1982      False   False   \n",
       "3869               Slumber Party Massacre II, The   1987      False   False   \n",
       "3870              Slumber Party Massacre III, The   1990      False   False   \n",
       "3871                      Sorority House Massacre   1986      False   False   \n",
       "3872                   Sorority House Massacre II   1990      False   False   \n",
       "3873                                   Bamboozled   2000      False    True   \n",
       "3874                                      Bootmen   2000      False    True   \n",
       "3875                           Digimon: The Movie   2000       True   False   \n",
       "3876                                   Get Carter   2000      False   False   \n",
       "3877                                   Get Carter   1971      False   False   \n",
       "3878                             Meet the Parents   2000      False    True   \n",
       "3879                          Requiem for a Dream   2000      False   False   \n",
       "3880                                    Tigerland   2000      False   False   \n",
       "3881                             Two Family House   2000      False   False   \n",
       "3882                               Contender, The   2000      False   False   \n",
       "\n",
       "      Crime  Fantasy  Action  Thriller  Romance  Family  Adventure  Mystery  \\\n",
       "0     False    False   False     False    False   False      False    False   \n",
       "1     False     True   False     False    False   False       True    False   \n",
       "2     False    False   False     False     True   False      False    False   \n",
       "3     False    False   False     False    False   False      False    False   \n",
       "4     False    False   False     False    False   False      False    False   \n",
       "5      True    False    True      True    False   False      False    False   \n",
       "6     False    False   False     False     True   False      False    False   \n",
       "7     False    False   False     False    False   False       True    False   \n",
       "8     False    False    True     False    False   False      False    False   \n",
       "9     False    False    True      True    False   False       True    False   \n",
       "10    False    False   False     False     True   False      False    False   \n",
       "11    False    False   False     False    False   False      False    False   \n",
       "12    False    False   False     False    False   False      False    False   \n",
       "13    False    False   False     False    False   False      False    False   \n",
       "14    False    False    True     False     True   False       True    False   \n",
       "15    False    False   False      True    False   False      False    False   \n",
       "16    False    False   False     False     True   False      False    False   \n",
       "17    False    False   False      True    False   False      False    False   \n",
       "18    False    False   False     False    False   False      False    False   \n",
       "19    False    False    True     False    False   False      False    False   \n",
       "20    False    False    True     False    False   False      False    False   \n",
       "21     True    False   False      True    False   False      False    False   \n",
       "22    False    False   False      True    False   False      False    False   \n",
       "23    False    False   False     False    False   False      False    False   \n",
       "24    False    False   False     False     True   False      False    False   \n",
       "25    False    False   False     False    False   False      False    False   \n",
       "26    False    False   False     False    False   False      False    False   \n",
       "27    False    False   False     False     True   False      False    False   \n",
       "28    False    False   False     False    False   False       True    False   \n",
       "29    False    False   False     False    False   False      False    False   \n",
       "...     ...      ...     ...       ...      ...     ...        ...      ...   \n",
       "3853  False    False   False     False    False   False      False    False   \n",
       "3854  False    False   False     False    False   False      False    False   \n",
       "3855  False    False   False     False    False   False      False    False   \n",
       "3856  False    False   False     False    False   False       True    False   \n",
       "3857  False    False   False     False    False   False       True    False   \n",
       "3858  False    False   False     False    False   False      False    False   \n",
       "3859  False    False   False     False    False   False      False    False   \n",
       "3860  False    False   False     False    False   False      False    False   \n",
       "3861  False    False   False     False    False   False      False    False   \n",
       "3862  False    False   False     False    False   False      False    False   \n",
       "3863  False    False   False     False    False   False      False    False   \n",
       "3864  False    False   False     False    False   False      False    False   \n",
       "3865  False    False   False     False    False   False      False    False   \n",
       "3866  False    False   False      True    False   False      False    False   \n",
       "3867  False    False   False      True    False   False      False    False   \n",
       "3868  False    False   False     False    False   False      False    False   \n",
       "3869  False    False   False     False    False   False      False    False   \n",
       "3870  False    False   False     False    False   False      False    False   \n",
       "3871  False    False   False     False    False   False      False    False   \n",
       "3872  False    False   False     False    False   False      False    False   \n",
       "3873  False    False   False     False    False   False      False    False   \n",
       "3874  False    False   False     False    False   False      False    False   \n",
       "3875  False    False   False     False    False   False       True    False   \n",
       "3876  False    False    True      True    False   False      False    False   \n",
       "3877  False    False   False      True    False   False      False    False   \n",
       "3878  False    False   False     False    False   False      False    False   \n",
       "3879  False    False   False     False    False   False      False    False   \n",
       "3880  False    False   False     False    False   False      False    False   \n",
       "3881  False    False   False     False    False   False      False    False   \n",
       "3882  False    False   False      True    False   False      False    False   \n",
       "\n",
       "      Horror  Musical    War  Western  Sci-Fi  Film-Noir  \n",
       "0      False    False  False    False   False      False  \n",
       "1      False    False  False    False   False      False  \n",
       "2      False    False  False    False   False      False  \n",
       "3      False    False  False    False   False      False  \n",
       "4      False    False  False    False   False      False  \n",
       "5      False    False  False    False   False      False  \n",
       "6      False    False  False    False   False      False  \n",
       "7      False    False  False    False   False      False  \n",
       "8      False    False  False    False   False      False  \n",
       "9      False    False  False    False   False      False  \n",
       "10     False    False  False    False   False      False  \n",
       "11      True    False  False    False   False      False  \n",
       "12     False    False  False    False   False      False  \n",
       "13     False    False  False    False   False      False  \n",
       "14     False    False  False    False   False      False  \n",
       "15     False    False  False    False   False      False  \n",
       "16     False    False  False    False   False      False  \n",
       "17     False    False  False    False   False      False  \n",
       "18     False    False  False    False   False      False  \n",
       "19     False    False  False    False   False      False  \n",
       "20     False    False  False    False   False      False  \n",
       "21     False    False  False    False   False      False  \n",
       "22     False    False  False    False   False      False  \n",
       "23     False    False  False    False    True      False  \n",
       "24     False    False  False    False   False      False  \n",
       "25     False    False  False    False   False      False  \n",
       "26     False    False  False    False   False      False  \n",
       "27     False    False  False    False   False      False  \n",
       "28     False    False  False    False    True      False  \n",
       "29     False    False  False    False   False      False  \n",
       "...      ...      ...    ...      ...     ...        ...  \n",
       "3853    True    False  False    False    True      False  \n",
       "3854   False    False  False    False   False      False  \n",
       "3855   False    False  False    False   False      False  \n",
       "3856   False    False  False    False    True      False  \n",
       "3857   False    False  False    False    True      False  \n",
       "3858    True    False  False    False   False      False  \n",
       "3859   False    False  False    False   False      False  \n",
       "3860    True    False  False    False   False      False  \n",
       "3861    True    False  False    False    True      False  \n",
       "3862    True    False  False    False    True      False  \n",
       "3863    True    False  False    False    True      False  \n",
       "3864   False    False  False    False    True      False  \n",
       "3865    True    False  False    False   False      False  \n",
       "3866   False    False  False    False   False      False  \n",
       "3867   False    False  False    False    True      False  \n",
       "3868    True    False  False    False   False      False  \n",
       "3869    True    False  False    False   False      False  \n",
       "3870    True    False  False    False   False      False  \n",
       "3871    True    False  False    False   False      False  \n",
       "3872    True    False  False    False   False      False  \n",
       "3873   False    False  False    False   False      False  \n",
       "3874   False    False  False    False   False      False  \n",
       "3875   False    False  False    False   False      False  \n",
       "3876   False    False  False    False   False      False  \n",
       "3877   False    False  False    False   False      False  \n",
       "3878   False    False  False    False   False      False  \n",
       "3879   False    False  False    False   False      False  \n",
       "3880   False    False  False    False   False      False  \n",
       "3881   False    False  False    False   False      False  \n",
       "3882   False    False  False    False   False      False  \n",
       "\n",
       "[3883 rows x 18 columns]>"
      ]
     },
     "execution_count": 4,
     "metadata": {},
     "output_type": "execute_result"
    }
   ],
   "source": [
    "df.describe"
   ]
  },
  {
   "cell_type": "code",
   "execution_count": null,
   "metadata": {
    "collapsed": true
   },
   "outputs": [],
   "source": []
  }
 ],
 "metadata": {
  "kernelspec": {
   "display_name": "Python 3",
   "language": "python",
   "name": "python3"
  },
  "language_info": {
   "codemirror_mode": {
    "name": "ipython",
    "version": 3
   },
   "file_extension": ".py",
   "mimetype": "text/x-python",
   "name": "python",
   "nbconvert_exporter": "python",
   "pygments_lexer": "ipython3",
   "version": "3.6.1"
  }
 },
 "nbformat": 4,
 "nbformat_minor": 2
}
