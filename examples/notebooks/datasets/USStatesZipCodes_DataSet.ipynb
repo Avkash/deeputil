{
 "cells": [
  {
   "cell_type": "code",
   "execution_count": 1,
   "metadata": {},
   "outputs": [
    {
     "name": "stderr",
     "output_type": "stream",
     "text": [
      "Using TensorFlow backend.\n"
     ]
    }
   ],
   "source": [
    "from deeputil.datasets import USStatesZipCodes"
   ]
  },
  {
   "cell_type": "code",
   "execution_count": 2,
   "metadata": {},
   "outputs": [
    {
     "name": "stdout",
     "output_type": "stream",
     "text": [
      "Downloaded 2.3 MB dataset with 42741 rows and 6 columns..........\n"
     ]
    }
   ],
   "source": [
    "df = USStatesZipCodes.load_data_as_pandas_df()"
   ]
  },
  {
   "cell_type": "code",
   "execution_count": 3,
   "metadata": {},
   "outputs": [
    {
     "data": {
      "text/plain": [
       "(42741, 6)"
      ]
     },
     "execution_count": 3,
     "metadata": {},
     "output_type": "execute_result"
    }
   ],
   "source": [
    "df.shape"
   ]
  },
  {
   "cell_type": "code",
   "execution_count": 4,
   "metadata": {},
   "outputs": [
    {
     "data": {
      "text/plain": [
       "<bound method NDFrame.describe of        zip_code   latitude   longitude             city state  \\\n",
       "0           501  40.922326  -72.637078       Holtsville    NY   \n",
       "1           544  40.922326  -72.637078       Holtsville    NY   \n",
       "2           601  18.165273  -66.722583         Adjuntas    PR   \n",
       "3           602  18.393103  -67.180953           Aguada    PR   \n",
       "4           603  18.455913  -67.145780        Aguadilla    PR   \n",
       "5           604  18.493520  -67.135883        Aguadilla    PR   \n",
       "6           605  18.465162  -67.141486        Aguadilla    PR   \n",
       "7           606  18.172947  -66.944111          Maricao    PR   \n",
       "8           610  18.288685  -67.139696           Anasco    PR   \n",
       "9           611  18.279531  -66.802170          Angeles    PR   \n",
       "10          612  18.450674  -66.698262          Arecibo    PR   \n",
       "11          613  18.458093  -66.732732          Arecibo    PR   \n",
       "12          614  18.429675  -66.674506          Arecibo    PR   \n",
       "13          616  18.444792  -66.640678         Bajadero    PR   \n",
       "14          617  18.447092  -66.544255      Barceloneta    PR   \n",
       "15          622  17.998531  -67.187318         Boqueron    PR   \n",
       "16          623  18.062201  -67.149541        Cabo Rojo    PR   \n",
       "17          624  18.023535  -66.726156         Penuelas    PR   \n",
       "18          627  18.477891  -66.854770            Camuy    PR   \n",
       "19          631  18.269187  -66.864993         Castaner    PR   \n",
       "20          636  18.113284  -67.039706          Rosario    PR   \n",
       "21          637  18.087322  -66.934911    Sabana Grande    PR   \n",
       "22          638  18.336160  -66.472087           Ciales    PR   \n",
       "23          641  18.250027  -66.698957           Utuado    PR   \n",
       "24          646  18.436060  -66.281954           Dorado    PR   \n",
       "25          647  17.969594  -66.939754         Ensenada    PR   \n",
       "26          650  18.360125  -66.562311          Florida    PR   \n",
       "27          652  18.457254  -66.603358      Garrochales    PR   \n",
       "28          653  17.972468  -66.898661          Guanica    PR   \n",
       "29          656  18.023280  -66.786909       Guayanilla    PR   \n",
       "...         ...        ...         ...              ...   ...   \n",
       "42711     99803  58.377074 -134.617383           Juneau    AK   \n",
       "42712     99811  58.383480 -134.197786           Juneau    AK   \n",
       "42713     99820  57.500525 -134.585954           Angoon    AK   \n",
       "42714     99821  58.449413 -134.700348         Auke Bay    AK   \n",
       "42715     99824  58.276308 -134.397642          Douglas    AK   \n",
       "42716     99825  58.331798 -135.181256       Elfin Cove    AK   \n",
       "42717     99826  58.331798 -135.181256         Gustavus    AK   \n",
       "42718     99827  59.312688 -135.681153           Haines    AK   \n",
       "42719     99829  58.097655 -135.431561           Hoonah    AK   \n",
       "42720     99830  56.973554 -133.935996             Kake    AK   \n",
       "42721     99832  58.331798 -135.181256          Pelican    AK   \n",
       "42722     99833  56.767056 -132.931950       Petersburg    AK   \n",
       "42723     99835  57.080818 -135.318348            Sitka    AK   \n",
       "42724     99836  56.535950 -132.827948   Port Alexander    AK   \n",
       "42725     99840  59.456753 -135.314852          Skagway    AK   \n",
       "42726     99841  57.798249 -135.285061  Tenakee Springs    AK   \n",
       "42727     99850  58.383480 -134.197786           Juneau    AK   \n",
       "42728     99901  55.400674 -131.674090        Ketchikan    AK   \n",
       "42729     99903  55.517921 -132.003244     Meyers Chuck    AK   \n",
       "42730     99918  55.517921 -132.003244     Coffman Cove    AK   \n",
       "42731     99919  55.126774 -131.580407       Thorne Bay    AK   \n",
       "42732     99921  55.513301 -133.117022            Craig    AK   \n",
       "42733     99922  55.208706 -132.825903         Hydaburg    AK   \n",
       "42734     99923  55.517921 -132.003244            Hyder    AK   \n",
       "42735     99925  55.554393 -133.090680          Klawock    AK   \n",
       "42736     99926  55.094325 -131.566827       Metlakatla    AK   \n",
       "42737     99927  55.517921 -132.003244      Point Baker    AK   \n",
       "42738     99928  55.395359 -131.675370        Ward Cove    AK   \n",
       "42739     99929  56.449893 -132.364407         Wrangell    AK   \n",
       "42740     99950  55.542007 -131.432682        Ketchikan    AK   \n",
       "\n",
       "                       county  \n",
       "0                     Suffolk  \n",
       "1                     Suffolk  \n",
       "2                    Adjuntas  \n",
       "3                      Aguada  \n",
       "4                   Aguadilla  \n",
       "5                   Aguadilla  \n",
       "6                   Aguadilla  \n",
       "7                     Maricao  \n",
       "8                      Anasco  \n",
       "9                      Utuado  \n",
       "10                    Arecibo  \n",
       "11                    Arecibo  \n",
       "12                    Arecibo  \n",
       "13                    Arecibo  \n",
       "14                Barceloneta  \n",
       "15                  Cabo Rojo  \n",
       "16                  Cabo Rojo  \n",
       "17                   Penuelas  \n",
       "18                      Camuy  \n",
       "19                      Lares  \n",
       "20                 San German  \n",
       "21              Sabana Grande  \n",
       "22                     Ciales  \n",
       "23                     Utuado  \n",
       "24                     Dorado  \n",
       "25                    Guanica  \n",
       "26                    Florida  \n",
       "27                    Arecibo  \n",
       "28                    Guanica  \n",
       "29                 Guayanilla  \n",
       "...                       ...  \n",
       "42711                  Juneau  \n",
       "42712                  Juneau  \n",
       "42713   Skagway Hoonah Angoon  \n",
       "42714                  Juneau  \n",
       "42715                  Juneau  \n",
       "42716   Skagway Hoonah Angoon  \n",
       "42717   Skagway Hoonah Angoon  \n",
       "42718                  Haines  \n",
       "42719   Skagway Hoonah Angoon  \n",
       "42720     Wrangell Petersburg  \n",
       "42721   Skagway Hoonah Angoon  \n",
       "42722     Wrangell Petersburg  \n",
       "42723                   Sitka  \n",
       "42724     Wrangell Petersburg  \n",
       "42725   Skagway Hoonah Angoon  \n",
       "42726   Skagway Hoonah Angoon  \n",
       "42727                  Juneau  \n",
       "42728       Ketchikan Gateway  \n",
       "42729  Prince Wales Ketchikan  \n",
       "42730  Prince Wales Ketchikan  \n",
       "42731  Prince Wales Ketchikan  \n",
       "42732  Prince Wales Ketchikan  \n",
       "42733  Prince Wales Ketchikan  \n",
       "42734  Prince Wales Ketchikan  \n",
       "42735  Prince Wales Ketchikan  \n",
       "42736  Prince Wales Ketchikan  \n",
       "42737  Prince Wales Ketchikan  \n",
       "42738       Ketchikan Gateway  \n",
       "42739     Wrangell Petersburg  \n",
       "42740       Ketchikan Gateway  \n",
       "\n",
       "[42741 rows x 6 columns]>"
      ]
     },
     "execution_count": 4,
     "metadata": {},
     "output_type": "execute_result"
    }
   ],
   "source": [
    "df.describe"
   ]
  },
  {
   "cell_type": "code",
   "execution_count": null,
   "metadata": {
    "collapsed": true
   },
   "outputs": [],
   "source": []
  }
 ],
 "metadata": {
  "kernelspec": {
   "display_name": "Python 3",
   "language": "python",
   "name": "python3"
  },
  "language_info": {
   "codemirror_mode": {
    "name": "ipython",
    "version": 3
   },
   "file_extension": ".py",
   "mimetype": "text/x-python",
   "name": "python",
   "nbconvert_exporter": "python",
   "pygments_lexer": "ipython3",
   "version": "3.6.1"
  }
 },
 "nbformat": 4,
 "nbformat_minor": 2
}
