{
 "cells": [
  {
   "cell_type": "code",
   "execution_count": 1,
   "metadata": {},
   "outputs": [
    {
     "name": "stderr",
     "output_type": "stream",
     "text": [
      "Using TensorFlow backend.\n"
     ]
    }
   ],
   "source": [
    "import tensorflow\n",
    "from deeputil.model import ModelsMaster\n",
    "from deeputil.modelassist import KerasModelHelper\n",
    "from deeputil.modelassist import ImportExport"
   ]
  },
  {
   "cell_type": "code",
   "execution_count": 28,
   "metadata": {},
   "outputs": [
    {
     "name": "stdout",
     "output_type": "stream",
     "text": [
      "Losses: categorical_crossentropy\n",
      "Optimizers: rmsprop\n",
      "Metrics: ['acc']\n",
      "Loading model json from the disk done..\n",
      "Loading model weights from the disk done.\n"
     ]
    }
   ],
   "source": [
    "model = ImportExport.import_keras_model_config_and_weight_and_compile('/Users/avkashchauhan/learn/keras_work/mnist_config_100.json', \n",
    "                                                                      '/Users/avkashchauhan/learn/keras_work/mnist_weight_100.h5',\n",
    "                                                                      show_info = True)"
   ]
  },
  {
   "cell_type": "code",
   "execution_count": 29,
   "metadata": {},
   "outputs": [
    {
     "name": "stdout",
     "output_type": "stream",
     "text": [
      "Collecting layer count.....\n",
      "Total 8 layers details are collected.\n"
     ]
    },
    {
     "data": {
      "text/html": [
       "<div>\n",
       "<style>\n",
       "    .dataframe thead tr:only-child th {\n",
       "        text-align: right;\n",
       "    }\n",
       "\n",
       "    .dataframe thead th {\n",
       "        text-align: left;\n",
       "    }\n",
       "\n",
       "    .dataframe tbody tr th {\n",
       "        vertical-align: top;\n",
       "    }\n",
       "</style>\n",
       "<table border=\"1\" class=\"dataframe\">\n",
       "  <thead>\n",
       "    <tr style=\"text-align: right;\">\n",
       "      <th></th>\n",
       "      <th>Id</th>\n",
       "      <th>LayerName</th>\n",
       "      <th>Type</th>\n",
       "      <th>Filters</th>\n",
       "      <th>InputShape</th>\n",
       "      <th>OutputShape</th>\n",
       "      <th>Activation</th>\n",
       "      <th>ParameterCount</th>\n",
       "    </tr>\n",
       "  </thead>\n",
       "  <tbody>\n",
       "    <tr>\n",
       "      <th>0</th>\n",
       "      <td>0</td>\n",
       "      <td>conv2d_1</td>\n",
       "      <td>Conv2D</td>\n",
       "      <td>32</td>\n",
       "      <td>(None, 1, 28, 28)</td>\n",
       "      <td>(None, 1, 28, 32)</td>\n",
       "      <td>relu</td>\n",
       "      <td>928</td>\n",
       "    </tr>\n",
       "    <tr>\n",
       "      <th>1</th>\n",
       "      <td>1</td>\n",
       "      <td>conv2d_2</td>\n",
       "      <td>Conv2D</td>\n",
       "      <td>32</td>\n",
       "      <td>(None, 1, 28, 32)</td>\n",
       "      <td>(None, 1, 28, 32)</td>\n",
       "      <td>relu</td>\n",
       "      <td>1056</td>\n",
       "    </tr>\n",
       "    <tr>\n",
       "      <th>2</th>\n",
       "      <td>2</td>\n",
       "      <td>max_pooling2d_1</td>\n",
       "      <td>MaxPooling2D</td>\n",
       "      <td>0</td>\n",
       "      <td>(None, 1, 28, 32)</td>\n",
       "      <td>(None, 1, 28, 32)</td>\n",
       "      <td>None</td>\n",
       "      <td>0</td>\n",
       "    </tr>\n",
       "    <tr>\n",
       "      <th>3</th>\n",
       "      <td>3</td>\n",
       "      <td>dropout_1</td>\n",
       "      <td>Dropout</td>\n",
       "      <td>0</td>\n",
       "      <td>(None, 1, 28, 32)</td>\n",
       "      <td>(None, 1, 28, 32)</td>\n",
       "      <td>None</td>\n",
       "      <td>0</td>\n",
       "    </tr>\n",
       "    <tr>\n",
       "      <th>4</th>\n",
       "      <td>4</td>\n",
       "      <td>flatten_1</td>\n",
       "      <td>Flatten</td>\n",
       "      <td>0</td>\n",
       "      <td>(None, 1, 28, 32)</td>\n",
       "      <td>(None, 896)</td>\n",
       "      <td>None</td>\n",
       "      <td>0</td>\n",
       "    </tr>\n",
       "    <tr>\n",
       "      <th>5</th>\n",
       "      <td>5</td>\n",
       "      <td>dense_1</td>\n",
       "      <td>Dense</td>\n",
       "      <td>0</td>\n",
       "      <td>(None, 896)</td>\n",
       "      <td>(None, 128)</td>\n",
       "      <td>relu</td>\n",
       "      <td>114816</td>\n",
       "    </tr>\n",
       "    <tr>\n",
       "      <th>6</th>\n",
       "      <td>6</td>\n",
       "      <td>dropout_2</td>\n",
       "      <td>Dropout</td>\n",
       "      <td>0</td>\n",
       "      <td>(None, 128)</td>\n",
       "      <td>(None, 128)</td>\n",
       "      <td>None</td>\n",
       "      <td>0</td>\n",
       "    </tr>\n",
       "    <tr>\n",
       "      <th>7</th>\n",
       "      <td>7</td>\n",
       "      <td>dense_2</td>\n",
       "      <td>Dense</td>\n",
       "      <td>0</td>\n",
       "      <td>(None, 128)</td>\n",
       "      <td>(None, 10)</td>\n",
       "      <td>softmax</td>\n",
       "      <td>1290</td>\n",
       "    </tr>\n",
       "  </tbody>\n",
       "</table>\n",
       "</div>"
      ],
      "text/plain": [
       "  Id        LayerName          Type Filters         InputShape  \\\n",
       "0  0         conv2d_1        Conv2D      32  (None, 1, 28, 28)   \n",
       "1  1         conv2d_2        Conv2D      32  (None, 1, 28, 32)   \n",
       "2  2  max_pooling2d_1  MaxPooling2D       0  (None, 1, 28, 32)   \n",
       "3  3        dropout_1       Dropout       0  (None, 1, 28, 32)   \n",
       "4  4        flatten_1       Flatten       0  (None, 1, 28, 32)   \n",
       "5  5          dense_1         Dense       0        (None, 896)   \n",
       "6  6        dropout_2       Dropout       0        (None, 128)   \n",
       "7  7          dense_2         Dense       0        (None, 128)   \n",
       "\n",
       "         OutputShape Activation ParameterCount  \n",
       "0  (None, 1, 28, 32)       relu            928  \n",
       "1  (None, 1, 28, 32)       relu           1056  \n",
       "2  (None, 1, 28, 32)       None              0  \n",
       "3  (None, 1, 28, 32)       None              0  \n",
       "4        (None, 896)       None              0  \n",
       "5        (None, 128)       relu         114816  \n",
       "6        (None, 128)       None              0  \n",
       "7         (None, 10)    softmax           1290  "
      ]
     },
     "execution_count": 29,
     "metadata": {},
     "output_type": "execute_result"
    }
   ],
   "source": [
    "KerasModelHelper.get_model_layers_details_all(model)"
   ]
  },
  {
   "cell_type": "code",
   "execution_count": 4,
   "metadata": {},
   "outputs": [
    {
     "name": "stdout",
     "output_type": "stream",
     "text": [
      "There are no filters in this layer\n",
      "{'name': 'dense_1', 'trainable': True, 'units': 128, 'activation': 'relu', 'use_bias': True, 'kernel_initializer': {'class_name': 'VarianceScaling', 'config': {'scale': 1.0, 'mode': 'fan_avg', 'distribution': 'uniform', 'seed': None}}, 'bias_initializer': {'class_name': 'Zeros', 'config': {}}, 'kernel_regularizer': None, 'bias_regularizer': None, 'activity_regularizer': None, 'kernel_constraint': None, 'bias_constraint': None}\n",
      "Layer Id : 5\n",
      "Layer Name : dense_1\n",
      "Layer Type : Dense\n",
      "Layer filters : NaN\n",
      "Layer Number : 5\n",
      "Layer Input Shape : (None, 896)\n",
      "Layer output shape :(None, 128)\n",
      "Num of Parameters :114816\n"
     ]
    }
   ],
   "source": [
    "KerasModelHelper.get_model_layer_details_by_layerId(model, 5)"
   ]
  },
  {
   "cell_type": "code",
   "execution_count": 5,
   "metadata": {},
   "outputs": [
    {
     "name": "stdout",
     "output_type": "stream",
     "text": [
      "Now getting very first layer from model..\n",
      "The layer Input Shape is (None, 1, 28, 28) so you would need to import image of this size.\n"
     ]
    },
    {
     "data": {
      "text/plain": [
       "(None, 1, 28, 28)"
      ]
     },
     "execution_count": 5,
     "metadata": {},
     "output_type": "execute_result"
    }
   ],
   "source": [
    "KerasModelHelper.get_model_input_image_shape_info(model)"
   ]
  },
  {
   "cell_type": "code",
   "execution_count": 6,
   "metadata": {
    "collapsed": true
   },
   "outputs": [],
   "source": [
    "from deeputil.imageassist import ImageUtils"
   ]
  },
  {
   "cell_type": "code",
   "execution_count": 26,
   "metadata": {},
   "outputs": [
    {
     "name": "stdout",
     "output_type": "stream",
     "text": [
      "Now importing selected image from the disk with default size (256, 256) ...\n"
     ]
    },
    {
     "data": {
      "image/png": "[encoded data removed]",
      "text/plain": [
       "<matplotlib.figure.Figure at 0x11b970c50>"
      ]
     },
     "metadata": {},
     "output_type": "display_data"
    }
   ],
   "source": [
    "#ImageUtils.display_image_from_disk('/Users/avkashchauhan/learn/keras_work/mnist-00.png')\n",
    "ImageUtils.display_image_from_disk('/Users/avkashchauhan/learn/keras_work/mnist-01.png')\n",
    "#ImageUtils.display_image_from_disk('/Users/avkashchauhan/learn/keras_work/mnist-02.png')"
   ]
  },
  {
   "cell_type": "code",
   "execution_count": 17,
   "metadata": {},
   "outputs": [
    {
     "name": "stdout",
     "output_type": "stream",
     "text": [
      "Now importing selected image from the disk...\n"
     ]
    }
   ],
   "source": [
    "#img= ImageUtils.import_image_from_disk('/Users/avkashchauhan/learn/keras_work/mnist-00.png', (28,28),isGray=True)\n",
    "#img= ImageUtils.import_image_from_disk('/Users/avkashchauhan/learn/keras_work/mnist-01.png', (28,28),isGray=True)\n",
    "img= ImageUtils.import_image_from_disk('/Users/avkashchauhan/learn/keras_work/mnist-02.png', (28,28),isGray=True)"
   ]
  },
  {
   "cell_type": "code",
   "execution_count": 18,
   "metadata": {},
   "outputs": [
    {
     "name": "stdout",
     "output_type": "stream",
     "text": [
      "Image as array shape: (28, 28, 1)\n"
     ]
    }
   ],
   "source": [
    "img_array = ImageUtils.convert_image_array(img)\n",
    "#img_p = ImageUtils.preprocess_image_array(img_array)"
   ]
  },
  {
   "cell_type": "code",
   "execution_count": 25,
   "metadata": {},
   "outputs": [
    {
     "data": {
      "image/png": "[encoded data removed]",
      "text/plain": [
       "<matplotlib.figure.Figure at 0x11bbb2470>"
      ]
     },
     "metadata": {},
     "output_type": "display_data"
    }
   ],
   "source": [
    "import matplotlib.pyplot as plt # import\n",
    "plt.imshow(img) #load\n",
    "plt.show()"
   ]
  },
  {
   "cell_type": "code",
   "execution_count": 21,
   "metadata": {},
   "outputs": [
    {
     "data": {
      "text/plain": [
       "True"
      ]
     },
     "execution_count": 21,
     "metadata": {},
     "output_type": "execute_result"
    }
   ],
   "source": [
    "ImageUtils.is_image_gray(img)"
   ]
  },
  {
   "cell_type": "code",
   "execution_count": 22,
   "metadata": {},
   "outputs": [
    {
     "data": {
      "text/plain": [
       "(28, 28, 1)"
      ]
     },
     "execution_count": 22,
     "metadata": {},
     "output_type": "execute_result"
    }
   ],
   "source": [
    "img_array.shape"
   ]
  },
  {
   "cell_type": "code",
   "execution_count": 23,
   "metadata": {},
   "outputs": [
    {
     "name": "stdout",
     "output_type": "stream",
     "text": [
      "(1, 1, 28, 28)\n"
     ]
    }
   ],
   "source": [
    "img_array_1 = img_array.reshape(1, 1, 28, 28)\n",
    "print(img_array_1.shape)"
   ]
  },
  {
   "cell_type": "code",
   "execution_count": 56,
   "metadata": {},
   "outputs": [
    {
     "name": "stdout",
     "output_type": "stream",
     "text": [
      "Collecting layer count.....\n",
      "Now getting activation object for the selected layer 0 from the given model...\n",
      "Activation object is collected successfully\n",
      "Now getting activation object for the selected layer 1 from the given model...\n",
      "Activation object is collected successfully\n",
      "Now getting activation object for the selected layer 2 from the given model...\n",
      "Activation object is collected successfully\n",
      "Now getting activation object for the selected layer 3 from the given model...\n",
      "Activation object is collected successfully\n",
      "Now getting activation object for the selected layer 4 from the given model...\n",
      "Activation object is collected successfully\n",
      "Error: Unable to get feature map count from the selected layer4 in this model..\n",
      "Now getting activation object for the selected layer 5 from the given model...\n",
      "Activation object is collected successfully\n",
      "Error: Unable to get feature map count from the selected layer5 in this model..\n",
      "Now getting activation object for the selected layer 6 from the given model...\n",
      "Activation object is collected successfully\n",
      "Error: Unable to get feature map count from the selected layer6 in this model..\n",
      "Now getting activation object for the selected layer 7 from the given model...\n",
      "Activation object is collected successfully\n",
      "Error: Unable to get feature map count from the selected layer7 in this model..\n",
      "Total 8 layers details are collected.\n"
     ]
    },
    {
     "data": {
      "text/html": [
       "<div>\n",
       "<style>\n",
       "    .dataframe thead tr:only-child th {\n",
       "        text-align: right;\n",
       "    }\n",
       "\n",
       "    .dataframe thead th {\n",
       "        text-align: left;\n",
       "    }\n",
       "\n",
       "    .dataframe tbody tr th {\n",
       "        vertical-align: top;\n",
       "    }\n",
       "</style>\n",
       "<table border=\"1\" class=\"dataframe\">\n",
       "  <thead>\n",
       "    <tr style=\"text-align: right;\">\n",
       "      <th></th>\n",
       "      <th>Id</th>\n",
       "      <th>LayerName</th>\n",
       "      <th>Type</th>\n",
       "      <th>Filters</th>\n",
       "      <th>InputShape</th>\n",
       "      <th>OutputShape</th>\n",
       "      <th>Activation</th>\n",
       "      <th>ParameterCount</th>\n",
       "      <th>Act_Shape</th>\n",
       "      <th>FeatureMapSize</th>\n",
       "      <th>FeatureMapCount</th>\n",
       "    </tr>\n",
       "  </thead>\n",
       "  <tbody>\n",
       "    <tr>\n",
       "      <th>0</th>\n",
       "      <td>0</td>\n",
       "      <td>conv2d_1</td>\n",
       "      <td>Conv2D</td>\n",
       "      <td>32</td>\n",
       "      <td>(None, 1, 28, 28)</td>\n",
       "      <td>(None, 1, 28, 32)</td>\n",
       "      <td>relu</td>\n",
       "      <td>928</td>\n",
       "      <td>(1, 1, 28, 32)</td>\n",
       "      <td>(28, 32)</td>\n",
       "      <td>32</td>\n",
       "    </tr>\n",
       "    <tr>\n",
       "      <th>1</th>\n",
       "      <td>1</td>\n",
       "      <td>conv2d_2</td>\n",
       "      <td>Conv2D</td>\n",
       "      <td>32</td>\n",
       "      <td>(None, 1, 28, 32)</td>\n",
       "      <td>(None, 1, 28, 32)</td>\n",
       "      <td>relu</td>\n",
       "      <td>1056</td>\n",
       "      <td>(1, 1, 28, 32)</td>\n",
       "      <td>(28, 32)</td>\n",
       "      <td>32</td>\n",
       "    </tr>\n",
       "    <tr>\n",
       "      <th>2</th>\n",
       "      <td>2</td>\n",
       "      <td>max_pooling2d_1</td>\n",
       "      <td>MaxPooling2D</td>\n",
       "      <td>NaN</td>\n",
       "      <td>(None, 1, 28, 32)</td>\n",
       "      <td>(None, 1, 28, 32)</td>\n",
       "      <td>None</td>\n",
       "      <td>0</td>\n",
       "      <td>(1, 1, 28, 32)</td>\n",
       "      <td>(28, 32)</td>\n",
       "      <td>32</td>\n",
       "    </tr>\n",
       "    <tr>\n",
       "      <th>3</th>\n",
       "      <td>3</td>\n",
       "      <td>dropout_1</td>\n",
       "      <td>Dropout</td>\n",
       "      <td>NaN</td>\n",
       "      <td>(None, 1, 28, 32)</td>\n",
       "      <td>(None, 1, 28, 32)</td>\n",
       "      <td>None</td>\n",
       "      <td>0</td>\n",
       "      <td>(1, 1, 28, 32)</td>\n",
       "      <td>(28, 32)</td>\n",
       "      <td>32</td>\n",
       "    </tr>\n",
       "    <tr>\n",
       "      <th>4</th>\n",
       "      <td>4</td>\n",
       "      <td>flatten_1</td>\n",
       "      <td>Flatten</td>\n",
       "      <td>NaN</td>\n",
       "      <td>(None, 1, 28, 32)</td>\n",
       "      <td>(None, 896)</td>\n",
       "      <td>None</td>\n",
       "      <td>0</td>\n",
       "      <td>(1, 896)</td>\n",
       "      <td>NaN</td>\n",
       "      <td>NaN</td>\n",
       "    </tr>\n",
       "    <tr>\n",
       "      <th>5</th>\n",
       "      <td>5</td>\n",
       "      <td>dense_1</td>\n",
       "      <td>Dense</td>\n",
       "      <td>NaN</td>\n",
       "      <td>(None, 896)</td>\n",
       "      <td>(None, 128)</td>\n",
       "      <td>relu</td>\n",
       "      <td>114816</td>\n",
       "      <td>(1, 128)</td>\n",
       "      <td>NaN</td>\n",
       "      <td>NaN</td>\n",
       "    </tr>\n",
       "    <tr>\n",
       "      <th>6</th>\n",
       "      <td>6</td>\n",
       "      <td>dropout_2</td>\n",
       "      <td>Dropout</td>\n",
       "      <td>NaN</td>\n",
       "      <td>(None, 128)</td>\n",
       "      <td>(None, 128)</td>\n",
       "      <td>None</td>\n",
       "      <td>0</td>\n",
       "      <td>(1, 128)</td>\n",
       "      <td>NaN</td>\n",
       "      <td>NaN</td>\n",
       "    </tr>\n",
       "    <tr>\n",
       "      <th>7</th>\n",
       "      <td>7</td>\n",
       "      <td>dense_2</td>\n",
       "      <td>Dense</td>\n",
       "      <td>NaN</td>\n",
       "      <td>(None, 128)</td>\n",
       "      <td>(None, 10)</td>\n",
       "      <td>softmax</td>\n",
       "      <td>1290</td>\n",
       "      <td>(1, 10)</td>\n",
       "      <td>NaN</td>\n",
       "      <td>NaN</td>\n",
       "    </tr>\n",
       "  </tbody>\n",
       "</table>\n",
       "</div>"
      ],
      "text/plain": [
       "  Id        LayerName          Type Filters         InputShape  \\\n",
       "0  0         conv2d_1        Conv2D      32  (None, 1, 28, 28)   \n",
       "1  1         conv2d_2        Conv2D      32  (None, 1, 28, 32)   \n",
       "2  2  max_pooling2d_1  MaxPooling2D     NaN  (None, 1, 28, 32)   \n",
       "3  3        dropout_1       Dropout     NaN  (None, 1, 28, 32)   \n",
       "4  4        flatten_1       Flatten     NaN  (None, 1, 28, 32)   \n",
       "5  5          dense_1         Dense     NaN        (None, 896)   \n",
       "6  6        dropout_2       Dropout     NaN        (None, 128)   \n",
       "7  7          dense_2         Dense     NaN        (None, 128)   \n",
       "\n",
       "         OutputShape Activation ParameterCount       Act_Shape FeatureMapSize  \\\n",
       "0  (None, 1, 28, 32)       relu            928  (1, 1, 28, 32)       (28, 32)   \n",
       "1  (None, 1, 28, 32)       relu           1056  (1, 1, 28, 32)       (28, 32)   \n",
       "2  (None, 1, 28, 32)       None              0  (1, 1, 28, 32)       (28, 32)   \n",
       "3  (None, 1, 28, 32)       None              0  (1, 1, 28, 32)       (28, 32)   \n",
       "4        (None, 896)       None              0        (1, 896)            NaN   \n",
       "5        (None, 128)       relu         114816        (1, 128)            NaN   \n",
       "6        (None, 128)       None              0        (1, 128)            NaN   \n",
       "7         (None, 10)    softmax           1290         (1, 10)            NaN   \n",
       "\n",
       "  FeatureMapCount  \n",
       "0              32  \n",
       "1              32  \n",
       "2              32  \n",
       "3              32  \n",
       "4             NaN  \n",
       "5             NaN  \n",
       "6             NaN  \n",
       "7             NaN  "
      ]
     },
     "execution_count": 56,
     "metadata": {},
     "output_type": "execute_result"
    }
   ],
   "source": [
    "KerasModelHelper.get_model_layers_details_all_extended(model,img_array_1)"
   ]
  },
  {
   "cell_type": "code",
   "execution_count": 61,
   "metadata": {},
   "outputs": [
    {
     "name": "stdout",
     "output_type": "stream",
     "text": [
      "Now collecting feature maps for all layers in the given model..\n",
      "Feature maps for all layers are collected.\n"
     ]
    },
    {
     "data": {
      "text/html": [
       "<div>\n",
       "<style>\n",
       "    .dataframe thead tr:only-child th {\n",
       "        text-align: right;\n",
       "    }\n",
       "\n",
       "    .dataframe thead th {\n",
       "        text-align: left;\n",
       "    }\n",
       "\n",
       "    .dataframe tbody tr th {\n",
       "        vertical-align: top;\n",
       "    }\n",
       "</style>\n",
       "<table border=\"1\" class=\"dataframe\">\n",
       "  <thead>\n",
       "    <tr style=\"text-align: right;\">\n",
       "      <th></th>\n",
       "      <th>LayerId</th>\n",
       "      <th>FeatureMapCount</th>\n",
       "    </tr>\n",
       "  </thead>\n",
       "  <tbody>\n",
       "    <tr>\n",
       "      <th>0</th>\n",
       "      <td>0</td>\n",
       "      <td>32</td>\n",
       "    </tr>\n",
       "    <tr>\n",
       "      <th>1</th>\n",
       "      <td>1</td>\n",
       "      <td>32</td>\n",
       "    </tr>\n",
       "    <tr>\n",
       "      <th>2</th>\n",
       "      <td>2</td>\n",
       "      <td>32</td>\n",
       "    </tr>\n",
       "    <tr>\n",
       "      <th>3</th>\n",
       "      <td>3</td>\n",
       "      <td>32</td>\n",
       "    </tr>\n",
       "    <tr>\n",
       "      <th>4</th>\n",
       "      <td>4</td>\n",
       "      <td>NaN</td>\n",
       "    </tr>\n",
       "    <tr>\n",
       "      <th>5</th>\n",
       "      <td>5</td>\n",
       "      <td>NaN</td>\n",
       "    </tr>\n",
       "    <tr>\n",
       "      <th>6</th>\n",
       "      <td>6</td>\n",
       "      <td>NaN</td>\n",
       "    </tr>\n",
       "    <tr>\n",
       "      <th>7</th>\n",
       "      <td>7</td>\n",
       "      <td>NaN</td>\n",
       "    </tr>\n",
       "  </tbody>\n",
       "</table>\n",
       "</div>"
      ],
      "text/plain": [
       "  LayerId FeatureMapCount\n",
       "0       0              32\n",
       "1       1              32\n",
       "2       2              32\n",
       "3       3              32\n",
       "4       4             NaN\n",
       "5       5             NaN\n",
       "6       6             NaN\n",
       "7       7             NaN"
      ]
     },
     "execution_count": 61,
     "metadata": {},
     "output_type": "execute_result"
    }
   ],
   "source": [
    "KerasModelHelper.get_feature_map_counts_for_all_layers(model, img_array_1)"
   ]
  },
  {
   "cell_type": "code",
   "execution_count": 12,
   "metadata": {},
   "outputs": [
    {
     "name": "stdout",
     "output_type": "stream",
     "text": [
      "Now collecting feature map for the selected layer in the given model..\n",
      "Now displaying 32 feature maps for the selected layer in the given model..\n",
      "Plotting 6 feature maps in each row.\n"
     ]
    },
    {
     "data": {
      "image/png": "[encoded data removed]",
      "text/plain": [
       "<matplotlib.figure.Figure at 0x11c3cff60>"
      ]
     },
     "metadata": {},
     "output_type": "display_data"
    },
    {
     "name": "stdout",
     "output_type": "stream",
     "text": [
      "You are watching total 32 features from layer #0.\n"
     ]
    }
   ],
   "source": [
    "KerasModelHelper.display_full_feature_map_for_selected_layer_in_model(model, 0, img_array_1)"
   ]
  },
  {
   "cell_type": "code",
   "execution_count": 13,
   "metadata": {},
   "outputs": [
    {
     "name": "stdout",
     "output_type": "stream",
     "text": [
      "Now collecting feature map for the selected layer in the given model..\n"
     ]
    },
    {
     "data": {
      "image/png": "[encoded data removed]",
      "text/plain": [
       "<matplotlib.figure.Figure at 0x11bd779b0>"
      ]
     },
     "metadata": {},
     "output_type": "display_data"
    },
    {
     "name": "stdout",
     "output_type": "stream",
     "text": [
      "You are watching feature map #20 from the layer #0.\n"
     ]
    }
   ],
   "source": [
    "KerasModelHelper.display_individual_feature_for_selected_layer_in_model(model, 0, 20, img_array_1)"
   ]
  },
  {
   "cell_type": "code",
   "execution_count": 33,
   "metadata": {
    "collapsed": true
   },
   "outputs": [],
   "source": [
    "mnist_lables = (\"0\", \"1\", \"2\", \"3\", \"4\", \"5\", \"6\", \"7\", \"8\", \"9\")"
   ]
  },
  {
   "cell_type": "code",
   "execution_count": 34,
   "metadata": {},
   "outputs": [
    {
     "name": "stdout",
     "output_type": "stream",
     "text": [
      "1/1 [==============================] - 0s\n"
     ]
    },
    {
     "data": {
      "image/png": "[encoded data removed]",
      "text/plain": [
       "<matplotlib.figure.Figure at 0x11d2236a0>"
      ]
     },
     "metadata": {},
     "output_type": "display_data"
    }
   ],
   "source": [
    "pred1 = model.predict(img_array_1,batch_size=32, verbose=1)\n",
    "xbar = range(len(pred1[0]))\n",
    "plt.figure(figsize  = (20,8))\n",
    "plt.bar(xbar,pred1[0])\n",
    "plt.xticks(xbar, mnist_lables)\n",
    "plt.ylabel('Probability')\n",
    "\n",
    "plt.show()"
   ]
  },
  {
   "cell_type": "code",
   "execution_count": null,
   "metadata": {
    "collapsed": true
   },
   "outputs": [],
   "source": []
  }
 ],
 "metadata": {
  "kernelspec": {
   "display_name": "Python 3",
   "language": "python",
   "name": "python3"
  },
  "language_info": {
   "codemirror_mode": {
    "name": "ipython",
    "version": 3
   },
   "file_extension": ".py",
   "mimetype": "text/x-python",
   "name": "python",
   "nbconvert_exporter": "python",
   "pygments_lexer": "ipython3",
   "version": "3.6.1"
  }
 },
 "nbformat": 4,
 "nbformat_minor": 2
}
